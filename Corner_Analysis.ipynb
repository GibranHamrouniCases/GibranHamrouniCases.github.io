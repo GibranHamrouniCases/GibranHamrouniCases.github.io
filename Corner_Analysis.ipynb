{
  "cells": [
    {
      "cell_type": "code",
      "source": [
        "# fastf1 install\n",
        "!pip install fastf1"
      ],
      "metadata": {
        "id": "syKpAokTyafk"
      },
      "execution_count": null,
      "outputs": []
    },
    {
      "cell_type": "code",
      "source": [
        "# old matplotlib version needed\n",
        "!pip uninstall matplotlib\n",
        "!pip install matplotlib==3.1.3"
      ],
      "metadata": {
        "id": "HeKoMZye2VGL"
      },
      "execution_count": null,
      "outputs": []
    },
    {
      "cell_type": "code",
      "source": [
        "# set up\n",
        "import numpy as np\n",
        "import pandas as pd\n",
        "\n",
        "import fastf1 as ff1\n",
        "from fastf1 import plotting\n",
        "\n",
        "from matplotlib import pyplot as plt\n",
        "from matplotlib.pyplot import figure\n",
        "\n",
        "from google.colab import files"
      ],
      "metadata": {
        "id": "qdfe5hPUxned"
      },
      "execution_count": null,
      "outputs": []
    },
    {
      "cell_type": "code",
      "source": [
        "# Load the session data\n",
        "quali = ff1.get_session(2022, 'Abu Dhabi', 'Q')\n",
        "\n",
        "# Get the laps\n",
        "laps = quali.load_laps(with_telemetry=True)"
      ],
      "metadata": {
        "colab": {
          "base_uri": "https://localhost:8080/"
        },
        "id": "DEhGQJw8ZVpZ",
        "outputId": "9c8c002c-a060-43e1-db09-fed90d0eba27"
      },
      "execution_count": null,
      "outputs": [
        {
          "output_type": "stream",
          "name": "stderr",
          "text": [
            "WARNING:root:\n",
            "\n",
            "NO CACHE! Api caching has not been enabled! \n",
            "\tIt is highly recommended to enable this feature for much faster data loading!\n",
            "\tUse `fastf1.Cache.enable_cache('path/to/cache/')`\n",
            "\n",
            "/usr/local/lib/python3.8/dist-packages/fastf1/core.py:1220: FutureWarning: `Session.load_laps` is deprecated and will beremoved in a future version.\n",
            "Use `Session.load` instead.\n",
            "  warnings.warn(\"`Session.load_laps` is deprecated and will be\"\n"
          ]
        }
      ]
    },
    {
      "cell_type": "code",
      "source": [
        "# Setting parameters\n",
        "driver_1, driver_2 = 'LEC', 'VER'\n",
        "\n",
        "distance_min, distance_max = 4800, 5500 "
      ],
      "metadata": {
        "id": "_4aZB9_3ZVf7"
      },
      "execution_count": null,
      "outputs": []
    },
    {
      "cell_type": "code",
      "source": [
        "# Extracting the laps\n",
        "laps_driver_1 = laps.pick_driver(driver_1)\n",
        "laps_driver_2 = laps.pick_driver(driver_2)\n",
        "\n",
        "telemetry_driver_1 = laps_driver_1.pick_fastest().get_car_data().add_distance()\n",
        "telemetry_driver_2 = laps_driver_2.pick_fastest().get_car_data().add_distance()\n",
        "\n",
        "# Identifying the team for coloring later on\n",
        "team_driver_1 = laps_driver_1.reset_index().loc[0, 'Team']\n",
        "team_driver_2 = laps_driver_2.reset_index().loc[0, 'Team']"
      ],
      "metadata": {
        "id": "SmBXRhCTZVcr"
      },
      "execution_count": null,
      "outputs": []
    },
    {
      "cell_type": "code",
      "source": [
        "# Assigning labels to what the drivers are currently doing \n",
        "telemetry_driver_1.loc[telemetry_driver_1['Brake'] > 0, 'CurrentAction'] = 'Brake'\n",
        "telemetry_driver_1.loc[telemetry_driver_1['Throttle'] == 100, 'CurrentAction'] = 'Full Throttle'\n",
        "telemetry_driver_1.loc[(telemetry_driver_1['Brake'] == 0) & (telemetry_driver_1['Throttle'] < 100), 'CurrentAction'] = 'Cornering'\n",
        "\n",
        "telemetry_driver_2.loc[telemetry_driver_2['Brake'] > 0, 'CurrentAction'] = 'Brake'\n",
        "telemetry_driver_2.loc[telemetry_driver_2['Throttle'] == 100, 'CurrentAction'] = 'Full Throttle'\n",
        "telemetry_driver_2.loc[(telemetry_driver_2['Brake'] == 0) & (telemetry_driver_2['Throttle'] < 100), 'CurrentAction'] = 'Cornering'"
      ],
      "metadata": {
        "id": "V006DDXEZVZ4"
      },
      "execution_count": null,
      "outputs": []
    },
    {
      "cell_type": "code",
      "source": [
        "# Numbering each unique action to identify changes, so that we can group later on\n",
        "telemetry_driver_1['ActionID'] = (telemetry_driver_1['CurrentAction'] != telemetry_driver_1['CurrentAction'].shift(1)).cumsum()\n",
        "telemetry_driver_2['ActionID'] = (telemetry_driver_2['CurrentAction'] != telemetry_driver_2['CurrentAction'].shift(1)).cumsum()"
      ],
      "metadata": {
        "id": "1hPe26EXZ-Kp"
      },
      "execution_count": null,
      "outputs": []
    },
    {
      "cell_type": "code",
      "source": [
        "# Identifying all unique actions\n",
        "actions_driver_1 = telemetry_driver_1[['ActionID', 'CurrentAction', 'Distance']].groupby(['ActionID', 'CurrentAction']).max('Distance').reset_index()\n",
        "actions_driver_2 = telemetry_driver_2[['ActionID', 'CurrentAction', 'Distance']].groupby(['ActionID', 'CurrentAction']).max('Distance').reset_index()\n",
        "\n",
        "actions_driver_1['Driver'] = driver_1\n",
        "actions_driver_2['Driver'] = driver_2"
      ],
      "metadata": {
        "id": "FeiUlU5aZ-Gg"
      },
      "execution_count": null,
      "outputs": []
    },
    {
      "cell_type": "code",
      "source": [
        "# Calculating the distance between each action, so that we know how long the bar should be\n",
        "actions_driver_1['DistanceDelta'] = actions_driver_1['Distance'] - actions_driver_1['Distance'].shift(1)\n",
        "actions_driver_1.loc[0, 'DistanceDelta'] = actions_driver_1.loc[0, 'Distance']\n",
        "\n",
        "actions_driver_2['DistanceDelta'] = actions_driver_2['Distance'] - actions_driver_2['Distance'].shift(1)\n",
        "actions_driver_2.loc[0, 'DistanceDelta'] = actions_driver_2.loc[0, 'Distance']"
      ],
      "metadata": {
        "id": "7hq-UqdxZ-DB"
      },
      "execution_count": null,
      "outputs": []
    },
    {
      "cell_type": "code",
      "source": [
        "# Merging together\n",
        "all_actions = actions_driver_1.append(actions_driver_2)"
      ],
      "metadata": {
        "id": "KmgASb4fZ9_Y"
      },
      "execution_count": null,
      "outputs": []
    },
    {
      "cell_type": "code",
      "source": [
        "# Calculating average speed\n",
        "avg_speed_driver_1 = np.mean(telemetry_driver_1['Speed'].loc[\n",
        "    (telemetry_driver_1['Distance'] >= distance_min) & \n",
        "        (telemetry_driver_1['Distance'] <= distance_max) \n",
        "])\n",
        "\n",
        "\n",
        "avg_speed_driver_2 = np.mean(telemetry_driver_2['Speed'].loc[\n",
        "    (telemetry_driver_2['Distance'] >= distance_min) & \n",
        "        (telemetry_driver_2['Distance'] <= distance_max) \n",
        "])\n",
        "\n",
        "if avg_speed_driver_1 > avg_speed_driver_2:    \n",
        "    speed_text = f\"{driver_1} {round(avg_speed_driver_1 - avg_speed_driver_2,2)}km/h faster\"\n",
        "else:\n",
        "    speed_text = f\"{driver_2} {round(avg_speed_driver_2 - avg_speed_driver_1,2)}km/h faster\""
      ],
      "metadata": {
        "id": "C6fRdimIaKr5"
      },
      "execution_count": null,
      "outputs": []
    },
    {
      "cell_type": "code",
      "source": [
        "# set up\n",
        "plt.rcParams[\"figure.figsize\"] = [13, 4]\n",
        "plt.rcParams[\"figure.autolayout\"] = True\n",
        "\n",
        "telemetry_colors = {\n",
        "    'Full Throttle': 'green',\n",
        "    'Cornering': 'grey',\n",
        "    'Brake': 'red',\n",
        "}\n",
        "\n",
        "fig, ax = plt.subplots(2)\n",
        "\n",
        "### Lineplot for speed \n",
        "ax[0].plot(telemetry_driver_1['Distance'], telemetry_driver_1['Speed'], label=driver_1, color=ff1.plotting.team_color(team_driver_1))\n",
        "ax[0].plot(telemetry_driver_2['Distance'], telemetry_driver_2['Speed'], label=driver_2, color=ff1.plotting.team_color(team_driver_2))\n",
        "\n",
        "# Speed difference\n",
        "ax[0].text(distance_min + 15,200, speed_text, fontsize = 15)\n",
        "\n",
        "ax[0].set(ylabel='Speed')\n",
        "ax[0].legend(loc=\"lower right\")\n",
        "\n",
        "#### Horizontal barplot for telemetry\n",
        "for driver in [driver_1, driver_2]:\n",
        "    driver_actions = all_actions.loc[all_actions['Driver'] == driver]\n",
        "    \n",
        "    previous_action_end = 0\n",
        "    for _, action in driver_actions.iterrows():\n",
        "        ax[1].barh(\n",
        "            [driver], \n",
        "            action['DistanceDelta'], \n",
        "            left=previous_action_end, \n",
        "            color=telemetry_colors[action['CurrentAction']]\n",
        "        )\n",
        "        \n",
        "        previous_action_end = previous_action_end + action['DistanceDelta']\n",
        "\n",
        "### Styling of the plot   \n",
        "# Set x-label\n",
        "plt.xlabel('Distance')\n",
        "\n",
        "# Invert y-axis \n",
        "plt.gca().invert_yaxis()\n",
        "\n",
        "# Remove frame from plot\n",
        "ax[1].spines['top'].set_visible(False)\n",
        "ax[1].spines['right'].set_visible(False)\n",
        "ax[1].spines['left'].set_visible(False)\n",
        "\n",
        "# Add legend\n",
        "labels = list(telemetry_colors.keys())\n",
        "handles = [plt.Rectangle((0,0),1,1, color=telemetry_colors[label]) for label in labels]\n",
        "ax[1].legend(handles, labels)\n",
        "\n",
        "# Zoom in on the specific part we want to see\n",
        "ax[0].set_xlim(distance_min, distance_max)\n",
        "ax[1].set_xlim(distance_min, distance_max)\n",
        "\n",
        "# Save the plot\n",
        "plt.savefig('2022_Abu Dhabi_Q_LEC_vs_VER_Corner_Analysis.png', dpi=300)"
      ],
      "metadata": {
        "colab": {
          "base_uri": "https://localhost:8080/",
          "height": 297
        },
        "id": "fmrdo6P0aKnB",
        "outputId": "8b164c31-0cde-47df-b760-157182c37710"
      },
      "execution_count": null,
      "outputs": [
        {
          "output_type": "display_data",
          "data": {
            "text/plain": [
              "<Figure size 936x288 with 2 Axes>"
            ],
            "image/png": "[encoded data removed]"
          },
          "metadata": {
            "needs_background": "light"
          }
        }
      ]
    },
    {
      "cell_type": "code",
      "source": [
        "files.download('2022_Abu Dhabi_Q_LEC_vs_VER_Corner_Analysis.png') #Download"
      ],
      "metadata": {
        "colab": {
          "base_uri": "https://localhost:8080/",
          "height": 17
        },
        "id": "mG_1K2dEZU9R",
        "outputId": "5484d943-61d0-4d63-955f-51ad366e3aa1"
      },
      "execution_count": null,
      "outputs": [
        {
          "output_type": "display_data",
          "data": {
            "text/plain": [
              "<IPython.core.display.Javascript object>"
            ],
            "application/javascript": [
              "\n",
              "    async function download(id, filename, size) {\n",
              "      if (!google.colab.kernel.accessAllowed) {\n",
              "        return;\n",
              "      }\n",
              "      const div = document.createElement('div');\n",
              "      const label = document.createElement('label');\n",
              "      label.textContent = `Downloading \"${filename}\": `;\n",
              "      div.appendChild(label);\n",
              "      const progress = document.createElement('progress');\n",
              "      progress.max = size;\n",
              "      div.appendChild(progress);\n",
              "      document.body.appendChild(div);\n",
              "\n",
              "      const buffers = [];\n",
              "      let downloaded = 0;\n",
              "\n",
              "      const channel = await google.colab.kernel.comms.open(id);\n",
              "      // Send a message to notify the kernel that we're ready.\n",
              "      channel.send({})\n",
              "\n",
              "      for await (const message of channel.messages) {\n",
              "        // Send a message to notify the kernel that we're ready.\n",
              "        channel.send({})\n",
              "        if (message.buffers) {\n",
              "          for (const buffer of message.buffers) {\n",
              "            buffers.push(buffer);\n",
              "            downloaded += buffer.byteLength;\n",
              "            progress.value = downloaded;\n",
              "          }\n",
              "        }\n",
              "      }\n",
              "      const blob = new Blob(buffers, {type: 'application/binary'});\n",
              "      const a = document.createElement('a');\n",
              "      a.href = window.URL.createObjectURL(blob);\n",
              "      a.download = filename;\n",
              "      div.appendChild(a);\n",
              "      a.click();\n",
              "      div.remove();\n",
              "    }\n",
              "  "
            ]
          },
          "metadata": {}
        },
        {
          "output_type": "display_data",
          "data": {
            "text/plain": [
              "<IPython.core.display.Javascript object>"
            ],
            "application/javascript": [
              "download(\"download_242339cb-ee63-47ae-946d-d64a9f2e833e\", \"2022_Abu Dhabi_Q_LEC_vs_VER_Corner_Analysis.png\", 121725)"
            ]
          },
          "metadata": {}
        }
      ]
    }
  ],
  "metadata": {
    "kernelspec": {
      "display_name": "Python 3",
      "language": "python",
      "name": "python3"
    },
    "language_info": {
      "codemirror_mode": {
        "name": "ipython",
        "version": 3
      },
      "file_extension": ".py",
      "mimetype": "text/x-python",
      "name": "python",
      "nbconvert_exporter": "python",
      "pygments_lexer": "ipython3",
      "version": "3.8.8"
    },
    "colab": {
      "provenance": []
    }
  },
  "nbformat": 4,
  "nbformat_minor": 0
}