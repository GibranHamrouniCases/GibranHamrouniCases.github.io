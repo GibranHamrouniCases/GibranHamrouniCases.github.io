{
  "cells": [
    {
      "cell_type": "markdown",
      "source": [
        "CLASSIFICATION"
      ],
      "metadata": {
        "id": "zGyQISzN4Tcq"
      }
    },
    {
      "cell_type": "code",
      "source": [
        "from sklearn import neighbors, datasets\n",
        "import pandas as pd\n",
        "import matplotlib.pyplot as plt\n",
        "import numpy as np\n",
        "from sklearn.linear_model import LinearRegression\n",
        "\n",
        "iris = pd.read_csv(\"https://raw.githubusercontent.com/GibranHamrouniCases/GibranHamrouniCases.github.io/main/F1_Tyres_Pit.csv\")\n",
        "iris_data = iris.iloc[:, 1:3].to_numpy()\n",
        "X,y  = iris_data, iris.Ranking\n",
        "\n",
        "X.shape"
      ],
      "metadata": {
        "colab": {
          "base_uri": "https://localhost:8080/"
        },
        "id": "ZeDysdao97Dg",
        "outputId": "97d6411d-3c6e-4660-9a1e-7834e1eee6fe"
      },
      "execution_count": null,
      "outputs": [
        {
          "output_type": "execute_result",
          "data": {
            "text/plain": [
              "(48, 2)"
            ]
          },
          "metadata": {},
          "execution_count": 92
        }
      ]
    },
    {
      "cell_type": "code",
      "source": [
        "plt.plot(iris_data, iris.Ranking, 'o');"
      ],
      "metadata": {
        "colab": {
          "base_uri": "https://localhost:8080/",
          "height": 268
        },
        "id": "vcFPjvd9Emke",
        "outputId": "0fc50bc9-4195-4d39-ace2-ac1bc1dac544"
      },
      "execution_count": null,
      "outputs": [
        {
          "output_type": "display_data",
          "data": {
            "text/plain": [
              "<Figure size 432x288 with 1 Axes>"
            ],
            "image/png": "[encoded data removed]"
          },
          "metadata": {}
        }
      ]
    },
    {
      "cell_type": "code",
      "source": [
        "print((iris).keys())"
      ],
      "metadata": {
        "colab": {
          "base_uri": "https://localhost:8080/"
        },
        "id": "0lbv10-n_bWw",
        "outputId": "8d650f77-fa9e-4a47-f634-e6441ffd1303"
      },
      "execution_count": null,
      "outputs": [
        {
          "output_type": "stream",
          "name": "stdout",
          "text": [
            "Index(['Ranking', 'Average Tyre', 'Num Pit'], dtype='object')\n"
          ]
        }
      ]
    },
    {
      "cell_type": "code",
      "source": [
        "# create the model\n",
        "knn = neighbors.KNeighborsClassifier()\n",
        "# knn = neighbors.KNeighborsClassifier(n_neighbors=15) #you can specify the number of neighbors if you'd like\n",
        "\n",
        "# fit the model\n",
        "knn.fit(X, y)"
      ],
      "metadata": {
        "colab": {
          "base_uri": "https://localhost:8080/"
        },
        "id": "hRpx7dyT967I",
        "outputId": "45febf93-3b81-4590-c110-73747fe31bb0"
      },
      "execution_count": null,
      "outputs": [
        {
          "output_type": "execute_result",
          "data": {
            "text/plain": [
              "KNeighborsClassifier()"
            ]
          },
          "metadata": {},
          "execution_count": 95
        }
      ]
    },
    {
      "cell_type": "code",
      "source": [
        "# What kind of iris has 3cm x 5cm sepal and 4cm x 2cm petal?\n",
        "# call the \"predict\" method:\n",
        "result = knn.predict([[1, 3.4]])\n",
        "print(result,iris.Ranking[result])"
      ],
      "metadata": {
        "colab": {
          "base_uri": "https://localhost:8080/"
        },
        "id": "ltE2IK1w-DOq",
        "outputId": "1895dd7d-6657-4cde-ff12-802b2a21d382"
      },
      "execution_count": null,
      "outputs": [
        {
          "output_type": "stream",
          "name": "stdout",
          "text": [
            "[3] 3    4\n",
            "Name: Ranking, dtype: int64\n"
          ]
        }
      ]
    },
    {
      "cell_type": "code",
      "source": [
        "# Multiple flowers at once? Sure. As long as is in the X format\n",
        "X2=np.array([[1, 2],[2, 3],[3, 4]])\n",
        "result = knn.predict(X2)\n",
        "print(result,iris.Ranking[result])"
      ],
      "metadata": {
        "colab": {
          "base_uri": "https://localhost:8080/"
        },
        "id": "oGLPJGrh-DBP",
        "outputId": "186e8d0f-1b67-4666-cdbf-37a0951f58ef"
      },
      "execution_count": null,
      "outputs": [
        {
          "output_type": "stream",
          "name": "stdout",
          "text": [
            "[1 1 1] 1    2\n",
            "1    2\n",
            "1    2\n",
            "Name: Ranking, dtype: int64\n"
          ]
        }
      ]
    },
    {
      "cell_type": "code",
      "source": [
        "plt.plot(iris_data, iris.Ranking, 'o', color='green');\n",
        "plt.plot(X2, result, 'o',color='red');"
      ],
      "metadata": {
        "colab": {
          "base_uri": "https://localhost:8080/",
          "height": 268
        },
        "id": "B2c9wjclEsOm",
        "outputId": "d4a84d69-74cf-4e95-f0df-1c8f68518562"
      },
      "execution_count": null,
      "outputs": [
        {
          "output_type": "display_data",
          "data": {
            "text/plain": [
              "<Figure size 432x288 with 1 Axes>"
            ],
            "image/png": "[encoded data removed]"
          },
          "metadata": {}
        }
      ]
    },
    {
      "cell_type": "code",
      "source": [
        "regressor = LinearRegression()\n",
        "regressor.fit(X, y)\n",
        "\n",
        "\n",
        "y_pred = regressor.predict(X)\n",
        "# Calculates R^2\n",
        "score = regressor.score(X,y)"
      ],
      "metadata": {
        "id": "86i8v_cnKWAW"
      },
      "execution_count": null,
      "outputs": []
    },
    {
      "cell_type": "code",
      "source": [
        "import seaborn as sns\n",
        "sns.set()"
      ],
      "metadata": {
        "id": "4YDB9rByKfQs"
      },
      "execution_count": null,
      "outputs": []
    },
    {
      "cell_type": "code",
      "source": [
        "iris_pit = iris.iloc[:, 1:2].to_numpy()\n",
        "x,y  = iris_pit, iris.Ranking     "
      ],
      "metadata": {
        "id": "hIm-SmiiL1Il"
      },
      "execution_count": null,
      "outputs": []
    },
    {
      "cell_type": "code",
      "source": [
        "sns.regplot(x= iris_pit,y= iris.Ranking,)\n",
        "plt.xlabel('Pit Stop Lap Number')\n",
        "plt.ylabel('Rank')"
      ],
      "metadata": {
        "colab": {
          "base_uri": "https://localhost:8080/",
          "height": 302
        },
        "id": "Ot6dZMV6L3Z8",
        "outputId": "b5a4dca0-065d-4dc6-cf1e-fb542f9e4a64"
      },
      "execution_count": null,
      "outputs": [
        {
          "output_type": "execute_result",
          "data": {
            "text/plain": [
              "Text(0, 0.5, 'Rank')"
            ]
          },
          "metadata": {},
          "execution_count": 103
        },
        {
          "output_type": "display_data",
          "data": {
            "text/plain": [
              "<Figure size 432x288 with 1 Axes>"
            ],
            "image/png": "[encoded data removed]"
          },
          "metadata": {}
        }
      ]
    }
  ],
  "metadata": {
    "kernelspec": {
      "display_name": "Python 3",
      "language": "python",
      "name": "python3"
    },
    "language_info": {
      "codemirror_mode": {
        "name": "ipython",
        "version": 3
      },
      "file_extension": ".py",
      "mimetype": "text/x-python",
      "name": "python",
      "nbconvert_exporter": "python",
      "pygments_lexer": "ipython3",
      "version": "3.8.8"
    },
    "colab": {
      "provenance": []
    }
  },
  "nbformat": 4,
  "nbformat_minor": 0
}