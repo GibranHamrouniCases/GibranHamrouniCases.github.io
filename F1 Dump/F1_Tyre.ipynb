{
  "cells": [
    {
      "cell_type": "markdown",
      "source": [
        "CLUSTER"
      ],
      "metadata": {
        "id": "RppJdL1HzqPr"
      }
    },
    {
      "cell_type": "code",
      "source": [
        "from sklearn.cluster import KMeans\n",
        "import pandas as pd\n",
        "import matplotlib.pyplot as plt\n",
        "from sklearn.ensemble import RandomForestClassifier"
      ],
      "metadata": {
        "id": "vgtW4ER7zr8S"
      },
      "execution_count": null,
      "outputs": []
    },
    {
      "cell_type": "code",
      "source": [
        "iris = pd.read_csv(\"https://raw.githubusercontent.com/GibranHamrouniCases/GibranHamrouniCases.github.io/main/F1_Tyres_Red_Num.csv\")"
      ],
      "metadata": {
        "id": "CfJtFWrCz2gL"
      },
      "execution_count": null,
      "outputs": []
    },
    {
      "cell_type": "code",
      "source": [
        "iris_data = iris.iloc[:, 1:56].to_numpy()\n",
        "X,y  = iris_data, iris.Ranking"
      ],
      "metadata": {
        "id": "DAe2iu27H53l"
      },
      "execution_count": null,
      "outputs": []
    },
    {
      "cell_type": "code",
      "source": [
        "est = KMeans(n_clusters=10)\n",
        "clusters = est.fit_predict(iris_data)\n",
        "est.cluster_centers_.shape"
      ],
      "metadata": {
        "colab": {
          "base_uri": "https://localhost:8080/"
        },
        "id": "SCy6XZ-SH14F",
        "outputId": "60bdc40d-73ae-4bcf-cfa9-dc5675098547"
      },
      "execution_count": null,
      "outputs": [
        {
          "output_type": "execute_result",
          "data": {
            "text/plain": [
              "(10, 55)"
            ]
          },
          "metadata": {},
          "execution_count": 183
        }
      ]
    },
    {
      "cell_type": "code",
      "source": [
        "fig = plt.figure(figsize=(8, 3))\n",
        "for i in range(10):\n",
        "    ax = fig.add_subplot(2, 5, 1 + i, xticks=[], yticks=[])\n",
        "    ax.imshow(est.cluster_centers_[i].reshape((5, 11)), cmap=plt.cm.binary)"
      ],
      "metadata": {
        "colab": {
          "base_uri": "https://localhost:8080/",
          "height": 158
        },
        "id": "p1TBjBpT0BBb",
        "outputId": "49944488-1202-49b4-b3b7-46184029c563"
      },
      "execution_count": null,
      "outputs": [
        {
          "output_type": "display_data",
          "data": {
            "text/plain": [
              "<Figure size 576x216 with 10 Axes>"
            ],
            "image/png": "[encoded data removed]"
          },
          "metadata": {}
        }
      ]
    },
    {
      "cell_type": "code",
      "source": [
        "from scipy.stats import mode\n",
        "\n",
        "labels = np.zeros_like(clusters)\n",
        "for i in range(10):\n",
        "    mask = clusters == i\n",
        "    labels[mask] = mode(iris.Ranking[mask])[0]"
      ],
      "metadata": {
        "id": "1GqxR8oJ0OVr"
      },
      "execution_count": null,
      "outputs": []
    },
    {
      "cell_type": "code",
      "source": [
        "from sklearn.decomposition import PCA\n",
        "\n",
        "X = PCA(2).fit_transform(iris_data)\n",
        "\n",
        "kwargs = dict(cmap=plt.cm.get_cmap(\"rainbow\", 10), edgecolor=\"none\", alpha=0.6)\n",
        "fig, ax = plt.subplots(1, 2, figsize=(8, 4))\n",
        "ax[0].scatter(X[:, 0], X[:, 1], c=labels, **kwargs)\n",
        "ax[0].set_title(\"learned cluster labels\")\n",
        "\n",
        "ax[1].scatter(X[:, 0], X[:, 1], c=iris.Ranking, **kwargs)\n",
        "ax[1].set_title(\"true labels\");"
      ],
      "metadata": {
        "colab": {
          "base_uri": "https://localhost:8080/",
          "height": 281
        },
        "id": "gkpowj-n0maN",
        "outputId": "21e90b9d-b189-4f44-ec45-b48f357968e1"
      },
      "execution_count": null,
      "outputs": [
        {
          "output_type": "display_data",
          "data": {
            "text/plain": [
              "<Figure size 576x288 with 2 Axes>"
            ],
            "image/png": "[encoded data removed]"
          },
          "metadata": {
            "needs_background": "light"
          }
        }
      ]
    },
    {
      "cell_type": "code",
      "source": [
        "from sklearn.metrics import accuracy_score\n",
        "\n",
        "accuracy_score(iris.Ranking, labels)"
      ],
      "metadata": {
        "colab": {
          "base_uri": "https://localhost:8080/"
        },
        "id": "-OkMDQ3H2iJb",
        "outputId": "9450c464-5248-4137-9c52-08e629baee5b"
      },
      "execution_count": null,
      "outputs": [
        {
          "output_type": "execute_result",
          "data": {
            "text/plain": [
              "0.3695652173913043"
            ]
          },
          "metadata": {},
          "execution_count": 187
        }
      ]
    },
    {
      "cell_type": "code",
      "source": [
        "from sklearn.model_selection import train_test_split\n",
        "from sklearn import metrics\n",
        "from sklearn.tree import DecisionTreeClassifier\n",
        "\n",
        "Xtrain, Xtest, ytrain, ytest = train_test_split(X, y, random_state=0)\n",
        "clf = DecisionTreeClassifier(max_depth=11)\n",
        "clf.fit(Xtrain, ytrain)\n",
        "ypred = clf.predict(Xtest)"
      ],
      "metadata": {
        "id": "HA67JBpUqfTL"
      },
      "execution_count": null,
      "outputs": []
    },
    {
      "cell_type": "code",
      "source": [
        "metrics.accuracy_score(ypred, ytest)"
      ],
      "metadata": {
        "colab": {
          "base_uri": "https://localhost:8080/"
        },
        "id": "a3Q6SIPtrRGi",
        "outputId": "96efc29f-ddf3-4be9-f89d-11ac7b917602"
      },
      "execution_count": null,
      "outputs": [
        {
          "output_type": "execute_result",
          "data": {
            "text/plain": [
              "0.16666666666666666"
            ]
          },
          "metadata": {},
          "execution_count": 189
        }
      ]
    },
    {
      "cell_type": "code",
      "source": [
        "plt.imshow(metrics.confusion_matrix(ypred, ytest),\n",
        "           interpolation='nearest', cmap=plt.cm.binary)\n",
        "plt.grid(False)\n",
        "plt.colorbar()\n",
        "plt.xlabel(\"predicted label\")\n",
        "plt.ylabel(\"true label\");"
      ],
      "metadata": {
        "colab": {
          "base_uri": "https://localhost:8080/",
          "height": 283
        },
        "id": "kzuiUJAKrSmZ",
        "outputId": "ccca12e8-fa90-4995-c938-1f1351fbdb0a"
      },
      "execution_count": null,
      "outputs": [
        {
          "output_type": "display_data",
          "data": {
            "text/plain": [
              "<Figure size 432x288 with 2 Axes>"
            ],
            "image/png": "[encoded data removed]"
          },
          "metadata": {
            "needs_background": "light"
          }
        }
      ]
    }
  ],
  "metadata": {
    "kernelspec": {
      "display_name": "Python 3",
      "language": "python",
      "name": "python3"
    },
    "language_info": {
      "codemirror_mode": {
        "name": "ipython",
        "version": 3
      },
      "file_extension": ".py",
      "mimetype": "text/x-python",
      "name": "python",
      "nbconvert_exporter": "python",
      "pygments_lexer": "ipython3",
      "version": "3.8.8"
    },
    "colab": {
      "provenance": []
    }
  },
  "nbformat": 4,
  "nbformat_minor": 0
}