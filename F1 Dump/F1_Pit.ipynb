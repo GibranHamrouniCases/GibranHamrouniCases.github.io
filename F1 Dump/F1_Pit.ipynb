{
  "cells": [
    {
      "cell_type": "markdown",
      "source": [
        "CLASSIFICATION"
      ],
      "metadata": {
        "id": "zGyQISzN4Tcq"
      }
    },
    {
      "cell_type": "code",
      "source": [
        "from sklearn import neighbors, datasets\n",
        "import pandas as pd\n",
        "\n",
        "iris = pd.read_csv(\"https://raw.githubusercontent.com/GibranHamrouniCases/GibranHamrouniCases.github.io/main/F1_PIT_RAW.csv\")\n",
        "iris_data = iris.iloc[:, 1:59].to_numpy()\n",
        "X,y  = iris_data, iris.Rank\n",
        "\n",
        "X.shape"
      ],
      "metadata": {
        "colab": {
          "base_uri": "https://localhost:8080/"
        },
        "id": "ZeDysdao97Dg",
        "outputId": "d103df61-5075-497f-b09c-aad6dc248afb"
      },
      "execution_count": null,
      "outputs": [
        {
          "output_type": "execute_result",
          "data": {
            "text/plain": [
              "(48, 3)"
            ]
          },
          "metadata": {},
          "execution_count": 3
        }
      ]
    },
    {
      "cell_type": "code",
      "source": [
        "plt.plot(iris_data, iris.Rank, 'o');"
      ],
      "metadata": {
        "colab": {
          "base_uri": "https://localhost:8080/",
          "height": 268
        },
        "id": "vcFPjvd9Emke",
        "outputId": "22988879-4c5d-4679-fef2-84c5dad3f8c4"
      },
      "execution_count": null,
      "outputs": [
        {
          "output_type": "display_data",
          "data": {
            "text/plain": [
              "<Figure size 432x288 with 1 Axes>"
            ],
            "image/png": "[encoded data removed]"
          },
          "metadata": {
            "needs_background": "light"
          }
        }
      ]
    },
    {
      "cell_type": "code",
      "source": [
        "print((iris).keys())"
      ],
      "metadata": {
        "colab": {
          "base_uri": "https://localhost:8080/"
        },
        "id": "0lbv10-n_bWw",
        "outputId": "f68bbca6-b498-4013-e470-a0385c237a99"
      },
      "execution_count": null,
      "outputs": [
        {
          "output_type": "stream",
          "name": "stdout",
          "text": [
            "Index(['Rank', 'Pit 1 ', 'Pit 2', 'Pit 3'], dtype='object')\n"
          ]
        }
      ]
    },
    {
      "cell_type": "code",
      "source": [
        "# create the model\n",
        "knn = neighbors.KNeighborsClassifier()\n",
        "# knn = neighbors.KNeighborsClassifier(n_neighbors=15) #you can specify the number of neighbors if you'd like\n",
        "\n",
        "# fit the model\n",
        "knn.fit(X, y)"
      ],
      "metadata": {
        "colab": {
          "base_uri": "https://localhost:8080/"
        },
        "id": "hRpx7dyT967I",
        "outputId": "93bff63d-b29b-4737-e861-6324dbba362a"
      },
      "execution_count": null,
      "outputs": [
        {
          "output_type": "execute_result",
          "data": {
            "text/plain": [
              "KNeighborsClassifier()"
            ]
          },
          "metadata": {},
          "execution_count": 429
        }
      ]
    },
    {
      "cell_type": "code",
      "source": [
        "# What kind of iris has 3cm x 5cm sepal and 4cm x 2cm petal?\n",
        "# call the \"predict\" method:\n",
        "result = knn.predict([[50, 0, 0]])\n",
        "print(result,iris.Rank[result])"
      ],
      "metadata": {
        "colab": {
          "base_uri": "https://localhost:8080/"
        },
        "id": "ltE2IK1w-DOq",
        "outputId": "22d8e55c-8f7a-4796-e19a-d6925c0f55a5"
      },
      "execution_count": null,
      "outputs": [
        {
          "output_type": "stream",
          "name": "stdout",
          "text": [
            "[4] 4    6\n",
            "Name: Rank, dtype: int64\n"
          ]
        }
      ]
    },
    {
      "cell_type": "code",
      "source": [
        "# Multiple flowers at once? Sure. As long as is in the X format\n",
        "X2=np.array([[10, 0, 0],[15, 30, 0],[6,23, 39]])\n",
        "result = knn.predict(X2)\n",
        "print(result,iris.Rank[result])"
      ],
      "metadata": {
        "colab": {
          "base_uri": "https://localhost:8080/"
        },
        "id": "oGLPJGrh-DBP",
        "outputId": "1c0a5d35-e22b-44d8-a3ce-3ca8068fb9d0"
      },
      "execution_count": null,
      "outputs": [
        {
          "output_type": "stream",
          "name": "stdout",
          "text": [
            "[2 3 6] 2    3\n",
            "3    4\n",
            "6    1\n",
            "Name: Rank, dtype: int64\n"
          ]
        }
      ]
    },
    {
      "cell_type": "code",
      "source": [
        "plt.plot(iris_data, iris.Rank, 'o', color='green');\n",
        "plt.plot(X2, result, 'o',color='red');"
      ],
      "metadata": {
        "colab": {
          "base_uri": "https://localhost:8080/",
          "height": 268
        },
        "id": "B2c9wjclEsOm",
        "outputId": "33f0b07c-067f-42c8-c4ba-03a535ac3c58"
      },
      "execution_count": null,
      "outputs": [
        {
          "output_type": "display_data",
          "data": {
            "text/plain": [
              "<Figure size 432x288 with 1 Axes>"
            ],
            "image/png": "[encoded data removed]"
          },
          "metadata": {
            "needs_background": "light"
          }
        }
      ]
    },
    {
      "cell_type": "code",
      "source": [
        "regressor = LinearRegression()\n",
        "regressor.fit(X, y)\n",
        "\n",
        "\n",
        "y_pred = regressor.predict(X)\n",
        "# Calculates R^2\n",
        "score = regressor.score(X,y)"
      ],
      "metadata": {
        "id": "86i8v_cnKWAW"
      },
      "execution_count": null,
      "outputs": []
    },
    {
      "cell_type": "code",
      "source": [
        "import seaborn as sns\n",
        "sns.set()"
      ],
      "metadata": {
        "id": "4YDB9rByKfQs"
      },
      "execution_count": null,
      "outputs": []
    },
    {
      "cell_type": "code",
      "source": [
        "iris_ = iris.iloc[:, 3:4].to_numpy()\n",
        "x,y  = iris_data, iris.Rank     "
      ],
      "metadata": {
        "id": "hIm-SmiiL1Il"
      },
      "execution_count": null,
      "outputs": []
    },
    {
      "cell_type": "code",
      "source": [
        "sns.regplot(x= iris_data,y= iris.Rank,)\n",
        "plt.xlabel('Pit Stop Lap Number')\n",
        "plt.ylabel('Rank')"
      ],
      "metadata": {
        "colab": {
          "base_uri": "https://localhost:8080/",
          "height": 302
        },
        "id": "Ot6dZMV6L3Z8",
        "outputId": "14c04f8d-ccbd-40e4-dd13-a0e55d501790"
      },
      "execution_count": null,
      "outputs": [
        {
          "output_type": "execute_result",
          "data": {
            "text/plain": [
              "Text(0, 0.5, 'Rank')"
            ]
          },
          "metadata": {},
          "execution_count": 442
        },
        {
          "output_type": "display_data",
          "data": {
            "text/plain": [
              "<Figure size 432x288 with 1 Axes>"
            ],
            "image/png": "[encoded data removed]"
          },
          "metadata": {}
        }
      ]
    }
  ],
  "metadata": {
    "kernelspec": {
      "display_name": "Python 3",
      "language": "python",
      "name": "python3"
    },
    "language_info": {
      "codemirror_mode": {
        "name": "ipython",
        "version": 3
      },
      "file_extension": ".py",
      "mimetype": "text/x-python",
      "name": "python",
      "nbconvert_exporter": "python",
      "pygments_lexer": "ipython3",
      "version": "3.8.8"
    },
    "colab": {
      "provenance": []
    }
  },
  "nbformat": 4,
  "nbformat_minor": 0
}