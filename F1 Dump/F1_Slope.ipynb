{
  "cells": [
    {
      "cell_type": "code",
      "source": [
        "# Import required libraries\n",
        "import pandas as pd\n",
        "import numpy as np\n",
        "import matplotlib.pyplot as plt\n",
        "import seaborn as sns\n",
        "%matplotlib inline\n",
        " \n",
        "# Import necessary modules\n",
        "from sklearn.linear_model import LogisticRegression\n",
        "from sklearn.ensemble import RandomForestClassifier\n",
        "from sklearn.svm import LinearSVC\n",
        "\n",
        "from pandas.io.formats.info import DataFrameTableBuilder\n",
        "from sklearn.linear_model import LinearRegression\n",
        "import matplotlib.pyplot as plt"
      ],
      "metadata": {
        "id": "EkqDwYBbV4xd"
      },
      "execution_count": null,
      "outputs": []
    },
    {
      "cell_type": "code",
      "source": [
        "# Create Classifiers\n",
        "lr = LogisticRegression()\n",
        "svc = LinearSVC(C=1.0)\n",
        "rc = RandomForestClassifier(n_estimators=100)"
      ],
      "metadata": {
        "id": "Bz8rQJdfZ5Sb"
      },
      "execution_count": null,
      "outputs": []
    },
    {
      "cell_type": "code",
      "source": [
        "# Load data\n",
        "d_f = pd.read_csv(\"https://raw.githubusercontent.com/GibranHamrouniCases/GibranHamrouniCases.github.io/main/F1_Tyres_Red_Num.csv\")\n",
        "print(d_f.shape)\n",
        "d_f.describe()"
      ],
      "metadata": {
        "colab": {
          "base_uri": "https://localhost:8080/",
          "height": 411
        },
        "id": "hLEdxfo8V_eU",
        "outputId": "b442fe30-90c0-458f-a316-790002572d17"
      },
      "execution_count": null,
      "outputs": [
        {
          "output_type": "stream",
          "name": "stdout",
          "text": [
            "(46, 59)\n"
          ]
        },
        {
          "output_type": "execute_result",
          "data": {
            "text/plain": [
              "         Ranking      Lap_1      Lap_2      Lap_3      Lap_4      Lap_5  \\\n",
              "count  46.000000  46.000000  46.000000  46.000000  46.000000  46.000000   \n",
              "mean    4.456522   3.630435   3.630435   3.630435   3.630435   3.630435   \n",
              "std     3.925453   1.355789   1.355789   1.355789   1.355789   1.355789   \n",
              "min     1.000000   1.000000   1.000000   1.000000   1.000000   1.000000   \n",
              "25%     2.000000   2.000000   2.000000   2.000000   2.000000   2.000000   \n",
              "50%     3.000000   4.000000   4.000000   4.000000   4.000000   4.000000   \n",
              "75%     5.000000   5.000000   5.000000   5.000000   5.000000   5.000000   \n",
              "max    18.000000   6.000000   6.000000   6.000000   6.000000   6.000000   \n",
              "\n",
              "           Lap_6      Lap_7      Lap_8      Lap_9  ...     Lap_49     Lap_50  \\\n",
              "count  46.000000  46.000000  46.000000  46.000000  ...  46.000000  46.000000   \n",
              "mean    3.652174   3.673913   3.782609   3.869565  ...   4.630435   4.630435   \n",
              "std     1.353471   1.350792   1.280851   1.222178  ...   1.305692   1.305692   \n",
              "min     1.000000   1.000000   1.000000   1.000000  ...   2.000000   2.000000   \n",
              "25%     2.000000   2.000000   3.000000   3.000000  ...   3.250000   3.250000   \n",
              "50%     4.000000   4.000000   4.000000   4.000000  ...   4.500000   4.500000   \n",
              "75%     5.000000   5.000000   5.000000   5.000000  ...   6.000000   6.000000   \n",
              "max     6.000000   6.000000   6.000000   6.000000  ...   6.000000   6.000000   \n",
              "\n",
              "          Lap_51     Lap_52     Lap_53     Lap_54     Lap_55     Lap_56  \\\n",
              "count  46.000000  46.000000  46.000000  46.000000  46.000000  46.000000   \n",
              "mean    4.630435   4.630435   4.630435   4.543478   4.543478   4.543478   \n",
              "std     1.305692   1.305692   1.305692   1.277263   1.277263   1.277263   \n",
              "min     2.000000   2.000000   2.000000   2.000000   2.000000   2.000000   \n",
              "25%     3.250000   3.250000   3.250000   3.250000   3.250000   3.250000   \n",
              "50%     4.500000   4.500000   4.500000   4.000000   4.000000   4.000000   \n",
              "75%     6.000000   6.000000   6.000000   6.000000   6.000000   6.000000   \n",
              "max     6.000000   6.000000   6.000000   6.000000   6.000000   6.000000   \n",
              "\n",
              "          Lap_57     Lap_58  \n",
              "count  46.000000  46.000000  \n",
              "mean    4.543478   4.543478  \n",
              "std     1.277263   1.277263  \n",
              "min     2.000000   2.000000  \n",
              "25%     3.250000   3.250000  \n",
              "50%     4.000000   4.000000  \n",
              "75%     6.000000   6.000000  \n",
              "max     6.000000   6.000000  \n",
              "\n",
              "[8 rows x 59 columns]"
            ],
            "text/html": [
              "\n",
              "  <div id=\"df-1b56d4a6-99a3-42bf-b6fd-428ab5def5aa\">\n",
              "    <div class=\"colab-df-container\">\n",
              "      <div>\n",
              "<style scoped>\n",
              "    .dataframe tbody tr th:only-of-type {\n",
              "        vertical-align: middle;\n",
              "    }\n",
              "\n",
              "    .dataframe tbody tr th {\n",
              "        vertical-align: top;\n",
              "    }\n",
              "\n",
              "    .dataframe thead th {\n",
              "        text-align: right;\n",
              "    }\n",
              "</style>\n",
              "<table border=\"1\" class=\"dataframe\">\n",
              "  <thead>\n",
              "    <tr style=\"text-align: right;\">\n",
              "      <th></th>\n",
              "      <th>Ranking</th>\n",
              "      <th>Lap_1</th>\n",
              "      <th>Lap_2</th>\n",
              "      <th>Lap_3</th>\n",
              "      <th>Lap_4</th>\n",
              "      <th>Lap_5</th>\n",
              "      <th>Lap_6</th>\n",
              "      <th>Lap_7</th>\n",
              "      <th>Lap_8</th>\n",
              "      <th>Lap_9</th>\n",
              "      <th>...</th>\n",
              "      <th>Lap_49</th>\n",
              "      <th>Lap_50</th>\n",
              "      <th>Lap_51</th>\n",
              "      <th>Lap_52</th>\n",
              "      <th>Lap_53</th>\n",
              "      <th>Lap_54</th>\n",
              "      <th>Lap_55</th>\n",
              "      <th>Lap_56</th>\n",
              "      <th>Lap_57</th>\n",
              "      <th>Lap_58</th>\n",
              "    </tr>\n",
              "  </thead>\n",
              "  <tbody>\n",
              "    <tr>\n",
              "      <th>count</th>\n",
              "      <td>46.000000</td>\n",
              "      <td>46.000000</td>\n",
              "      <td>46.000000</td>\n",
              "      <td>46.000000</td>\n",
              "      <td>46.000000</td>\n",
              "      <td>46.000000</td>\n",
              "      <td>46.000000</td>\n",
              "      <td>46.000000</td>\n",
              "      <td>46.000000</td>\n",
              "      <td>46.000000</td>\n",
              "      <td>...</td>\n",
              "      <td>46.000000</td>\n",
              "      <td>46.000000</td>\n",
              "      <td>46.000000</td>\n",
              "      <td>46.000000</td>\n",
              "      <td>46.000000</td>\n",
              "      <td>46.000000</td>\n",
              "      <td>46.000000</td>\n",
              "      <td>46.000000</td>\n",
              "      <td>46.000000</td>\n",
              "      <td>46.000000</td>\n",
              "    </tr>\n",
              "    <tr>\n",
              "      <th>mean</th>\n",
              "      <td>4.456522</td>\n",
              "      <td>3.630435</td>\n",
              "      <td>3.630435</td>\n",
              "      <td>3.630435</td>\n",
              "      <td>3.630435</td>\n",
              "      <td>3.630435</td>\n",
              "      <td>3.652174</td>\n",
              "      <td>3.673913</td>\n",
              "      <td>3.782609</td>\n",
              "      <td>3.869565</td>\n",
              "      <td>...</td>\n",
              "      <td>4.630435</td>\n",
              "      <td>4.630435</td>\n",
              "      <td>4.630435</td>\n",
              "      <td>4.630435</td>\n",
              "      <td>4.630435</td>\n",
              "      <td>4.543478</td>\n",
              "      <td>4.543478</td>\n",
              "      <td>4.543478</td>\n",
              "      <td>4.543478</td>\n",
              "      <td>4.543478</td>\n",
              "    </tr>\n",
              "    <tr>\n",
              "      <th>std</th>\n",
              "      <td>3.925453</td>\n",
              "      <td>1.355789</td>\n",
              "      <td>1.355789</td>\n",
              "      <td>1.355789</td>\n",
              "      <td>1.355789</td>\n",
              "      <td>1.355789</td>\n",
              "      <td>1.353471</td>\n",
              "      <td>1.350792</td>\n",
              "      <td>1.280851</td>\n",
              "      <td>1.222178</td>\n",
              "      <td>...</td>\n",
              "      <td>1.305692</td>\n",
              "      <td>1.305692</td>\n",
              "      <td>1.305692</td>\n",
              "      <td>1.305692</td>\n",
              "      <td>1.305692</td>\n",
              "      <td>1.277263</td>\n",
              "      <td>1.277263</td>\n",
              "      <td>1.277263</td>\n",
              "      <td>1.277263</td>\n",
              "      <td>1.277263</td>\n",
              "    </tr>\n",
              "    <tr>\n",
              "      <th>min</th>\n",
              "      <td>1.000000</td>\n",
              "      <td>1.000000</td>\n",
              "      <td>1.000000</td>\n",
              "      <td>1.000000</td>\n",
              "      <td>1.000000</td>\n",
              "      <td>1.000000</td>\n",
              "      <td>1.000000</td>\n",
              "      <td>1.000000</td>\n",
              "      <td>1.000000</td>\n",
              "      <td>1.000000</td>\n",
              "      <td>...</td>\n",
              "      <td>2.000000</td>\n",
              "      <td>2.000000</td>\n",
              "      <td>2.000000</td>\n",
              "      <td>2.000000</td>\n",
              "      <td>2.000000</td>\n",
              "      <td>2.000000</td>\n",
              "      <td>2.000000</td>\n",
              "      <td>2.000000</td>\n",
              "      <td>2.000000</td>\n",
              "      <td>2.000000</td>\n",
              "    </tr>\n",
              "    <tr>\n",
              "      <th>25%</th>\n",
              "      <td>2.000000</td>\n",
              "      <td>2.000000</td>\n",
              "      <td>2.000000</td>\n",
              "      <td>2.000000</td>\n",
              "      <td>2.000000</td>\n",
              "      <td>2.000000</td>\n",
              "      <td>2.000000</td>\n",
              "      <td>2.000000</td>\n",
              "      <td>3.000000</td>\n",
              "      <td>3.000000</td>\n",
              "      <td>...</td>\n",
              "      <td>3.250000</td>\n",
              "      <td>3.250000</td>\n",
              "      <td>3.250000</td>\n",
              "      <td>3.250000</td>\n",
              "      <td>3.250000</td>\n",
              "      <td>3.250000</td>\n",
              "      <td>3.250000</td>\n",
              "      <td>3.250000</td>\n",
              "      <td>3.250000</td>\n",
              "      <td>3.250000</td>\n",
              "    </tr>\n",
              "    <tr>\n",
              "      <th>50%</th>\n",
              "      <td>3.000000</td>\n",
              "      <td>4.000000</td>\n",
              "      <td>4.000000</td>\n",
              "      <td>4.000000</td>\n",
              "      <td>4.000000</td>\n",
              "      <td>4.000000</td>\n",
              "      <td>4.000000</td>\n",
              "      <td>4.000000</td>\n",
              "      <td>4.000000</td>\n",
              "      <td>4.000000</td>\n",
              "      <td>...</td>\n",
              "      <td>4.500000</td>\n",
              "      <td>4.500000</td>\n",
              "      <td>4.500000</td>\n",
              "      <td>4.500000</td>\n",
              "      <td>4.500000</td>\n",
              "      <td>4.000000</td>\n",
              "      <td>4.000000</td>\n",
              "      <td>4.000000</td>\n",
              "      <td>4.000000</td>\n",
              "      <td>4.000000</td>\n",
              "    </tr>\n",
              "    <tr>\n",
              "      <th>75%</th>\n",
              "      <td>5.000000</td>\n",
              "      <td>5.000000</td>\n",
              "      <td>5.000000</td>\n",
              "      <td>5.000000</td>\n",
              "      <td>5.000000</td>\n",
              "      <td>5.000000</td>\n",
              "      <td>5.000000</td>\n",
              "      <td>5.000000</td>\n",
              "      <td>5.000000</td>\n",
              "      <td>5.000000</td>\n",
              "      <td>...</td>\n",
              "      <td>6.000000</td>\n",
              "      <td>6.000000</td>\n",
              "      <td>6.000000</td>\n",
              "      <td>6.000000</td>\n",
              "      <td>6.000000</td>\n",
              "      <td>6.000000</td>\n",
              "      <td>6.000000</td>\n",
              "      <td>6.000000</td>\n",
              "      <td>6.000000</td>\n",
              "      <td>6.000000</td>\n",
              "    </tr>\n",
              "    <tr>\n",
              "      <th>max</th>\n",
              "      <td>18.000000</td>\n",
              "      <td>6.000000</td>\n",
              "      <td>6.000000</td>\n",
              "      <td>6.000000</td>\n",
              "      <td>6.000000</td>\n",
              "      <td>6.000000</td>\n",
              "      <td>6.000000</td>\n",
              "      <td>6.000000</td>\n",
              "      <td>6.000000</td>\n",
              "      <td>6.000000</td>\n",
              "      <td>...</td>\n",
              "      <td>6.000000</td>\n",
              "      <td>6.000000</td>\n",
              "      <td>6.000000</td>\n",
              "      <td>6.000000</td>\n",
              "      <td>6.000000</td>\n",
              "      <td>6.000000</td>\n",
              "      <td>6.000000</td>\n",
              "      <td>6.000000</td>\n",
              "      <td>6.000000</td>\n",
              "      <td>6.000000</td>\n",
              "    </tr>\n",
              "  </tbody>\n",
              "</table>\n",
              "<p>8 rows × 59 columns</p>\n",
              "</div>\n",
              "      <button class=\"colab-df-convert\" onclick=\"convertToInteractive('df-1b56d4a6-99a3-42bf-b6fd-428ab5def5aa')\"\n",
              "              title=\"Convert this dataframe to an interactive table.\"\n",
              "              style=\"display:none;\">\n",
              "        \n",
              "  <svg xmlns=\"http://www.w3.org/2000/svg\" height=\"24px\"viewBox=\"0 0 24 24\"\n",
              "       width=\"24px\">\n",
              "    <path d=\"M0 0h24v24H0V0z\" fill=\"none\"/>\n",
              "    <path d=\"M18.56 5.44l.94 2.06.94-2.06 2.06-.94-2.06-.94-.94-2.06-.94 2.06-2.06.94zm-11 1L8.5 8.5l.94-2.06 2.06-.94-2.06-.94L8.5 2.5l-.94 2.06-2.06.94zm10 10l.94 2.06.94-2.06 2.06-.94-2.06-.94-.94-2.06-.94 2.06-2.06.94z\"/><path d=\"M17.41 7.96l-1.37-1.37c-.4-.4-.92-.59-1.43-.59-.52 0-1.04.2-1.43.59L10.3 9.45l-7.72 7.72c-.78.78-.78 2.05 0 2.83L4 21.41c.39.39.9.59 1.41.59.51 0 1.02-.2 1.41-.59l7.78-7.78 2.81-2.81c.8-.78.8-2.07 0-2.86zM5.41 20L4 18.59l7.72-7.72 1.47 1.35L5.41 20z\"/>\n",
              "  </svg>\n",
              "      </button>\n",
              "      \n",
              "  <style>\n",
              "    .colab-df-container {\n",
              "      display:flex;\n",
              "      flex-wrap:wrap;\n",
              "      gap: 12px;\n",
              "    }\n",
              "\n",
              "    .colab-df-convert {\n",
              "      background-color: #E8F0FE;\n",
              "      border: none;\n",
              "      border-radius: 50%;\n",
              "      cursor: pointer;\n",
              "      display: none;\n",
              "      fill: #1967D2;\n",
              "      height: 32px;\n",
              "      padding: 0 0 0 0;\n",
              "      width: 32px;\n",
              "    }\n",
              "\n",
              "    .colab-df-convert:hover {\n",
              "      background-color: #E2EBFA;\n",
              "      box-shadow: 0px 1px 2px rgba(60, 64, 67, 0.3), 0px 1px 3px 1px rgba(60, 64, 67, 0.15);\n",
              "      fill: #174EA6;\n",
              "    }\n",
              "\n",
              "    [theme=dark] .colab-df-convert {\n",
              "      background-color: #3B4455;\n",
              "      fill: #D2E3FC;\n",
              "    }\n",
              "\n",
              "    [theme=dark] .colab-df-convert:hover {\n",
              "      background-color: #434B5C;\n",
              "      box-shadow: 0px 1px 3px 1px rgba(0, 0, 0, 0.15);\n",
              "      filter: drop-shadow(0px 1px 2px rgba(0, 0, 0, 0.3));\n",
              "      fill: #FFFFFF;\n",
              "    }\n",
              "  </style>\n",
              "\n",
              "      <script>\n",
              "        const buttonEl =\n",
              "          document.querySelector('#df-1b56d4a6-99a3-42bf-b6fd-428ab5def5aa button.colab-df-convert');\n",
              "        buttonEl.style.display =\n",
              "          google.colab.kernel.accessAllowed ? 'block' : 'none';\n",
              "\n",
              "        async function convertToInteractive(key) {\n",
              "          const element = document.querySelector('#df-1b56d4a6-99a3-42bf-b6fd-428ab5def5aa');\n",
              "          const dataTable =\n",
              "            await google.colab.kernel.invokeFunction('convertToInteractive',\n",
              "                                                     [key], {});\n",
              "          if (!dataTable) return;\n",
              "\n",
              "          const docLinkHtml = 'Like what you see? Visit the ' +\n",
              "            '<a target=\"_blank\" href=https://colab.research.google.com/notebooks/data_table.ipynb>data table notebook</a>'\n",
              "            + ' to learn more about interactive tables.';\n",
              "          element.innerHTML = '';\n",
              "          dataTable['output_type'] = 'display_data';\n",
              "          await google.colab.output.renderOutput(dataTable, element);\n",
              "          const docLink = document.createElement('div');\n",
              "          docLink.innerHTML = docLinkHtml;\n",
              "          element.appendChild(docLink);\n",
              "        }\n",
              "      </script>\n",
              "    </div>\n",
              "  </div>\n",
              "  "
            ]
          },
          "metadata": {},
          "execution_count": 574
        }
      ]
    },
    {
      "cell_type": "code",
      "source": [
        "d_f.head(49)\n",
        "d_f.info()"
      ],
      "metadata": {
        "colab": {
          "base_uri": "https://localhost:8080/"
        },
        "id": "76Ipa456azz9",
        "outputId": "be98a8bf-348b-4b20-b386-ab1c22360d16"
      },
      "execution_count": null,
      "outputs": [
        {
          "output_type": "stream",
          "name": "stdout",
          "text": [
            "<class 'pandas.core.frame.DataFrame'>\n",
            "RangeIndex: 46 entries, 0 to 45\n",
            "Data columns (total 59 columns):\n",
            " #   Column   Non-Null Count  Dtype\n",
            "---  ------   --------------  -----\n",
            " 0   Ranking  46 non-null     int64\n",
            " 1   Lap_1    46 non-null     int64\n",
            " 2   Lap_2    46 non-null     int64\n",
            " 3   Lap_3    46 non-null     int64\n",
            " 4   Lap_4    46 non-null     int64\n",
            " 5   Lap_5    46 non-null     int64\n",
            " 6   Lap_6    46 non-null     int64\n",
            " 7   Lap_7    46 non-null     int64\n",
            " 8   Lap_8    46 non-null     int64\n",
            " 9   Lap_9    46 non-null     int64\n",
            " 10  Lap_10   46 non-null     int64\n",
            " 11  Lap_11   46 non-null     int64\n",
            " 12  Lap_12   46 non-null     int64\n",
            " 13  Lap_13   46 non-null     int64\n",
            " 14  Lap_14   46 non-null     int64\n",
            " 15  Lap_15   46 non-null     int64\n",
            " 16  Lap_16   46 non-null     int64\n",
            " 17  Lap_17   46 non-null     int64\n",
            " 18  Lap_18   46 non-null     int64\n",
            " 19  Lap_19   46 non-null     int64\n",
            " 20  Lap_20   46 non-null     int64\n",
            " 21  Lap_21   46 non-null     int64\n",
            " 22  Lap_22   46 non-null     int64\n",
            " 23  Lap_23   46 non-null     int64\n",
            " 24  Lap_24   46 non-null     int64\n",
            " 25  Lap_25   46 non-null     int64\n",
            " 26  Lap_26   46 non-null     int64\n",
            " 27  Lap_27   46 non-null     int64\n",
            " 28  Lap_28   46 non-null     int64\n",
            " 29  Lap_29   46 non-null     int64\n",
            " 30  Lap_30   46 non-null     int64\n",
            " 31  Lap_31   46 non-null     int64\n",
            " 32  Lap_32   46 non-null     int64\n",
            " 33  Lap_33   46 non-null     int64\n",
            " 34  Lap_34   46 non-null     int64\n",
            " 35  Lap_35   46 non-null     int64\n",
            " 36  Lap_36   46 non-null     int64\n",
            " 37  Lap_37   46 non-null     int64\n",
            " 38  Lap_38   46 non-null     int64\n",
            " 39  Lap_39   46 non-null     int64\n",
            " 40  Lap_40   46 non-null     int64\n",
            " 41  Lap_41   46 non-null     int64\n",
            " 42  Lap_42   46 non-null     int64\n",
            " 43  Lap_43   46 non-null     int64\n",
            " 44  Lap_44   46 non-null     int64\n",
            " 45  Lap_45   46 non-null     int64\n",
            " 46  Lap_46   46 non-null     int64\n",
            " 47  Lap_47   46 non-null     int64\n",
            " 48  Lap_48   46 non-null     int64\n",
            " 49  Lap_49   46 non-null     int64\n",
            " 50  Lap_50   46 non-null     int64\n",
            " 51  Lap_51   46 non-null     int64\n",
            " 52  Lap_52   46 non-null     int64\n",
            " 53  Lap_53   46 non-null     int64\n",
            " 54  Lap_54   46 non-null     int64\n",
            " 55  Lap_55   46 non-null     int64\n",
            " 56  Lap_56   46 non-null     int64\n",
            " 57  Lap_57   46 non-null     int64\n",
            " 58  Lap_58   46 non-null     int64\n",
            "dtypes: int64(59)\n",
            "memory usage: 21.3 KB\n"
          ]
        }
      ]
    },
    {
      "cell_type": "code",
      "source": [
        "d_f.shape"
      ],
      "metadata": {
        "colab": {
          "base_uri": "https://localhost:8080/"
        },
        "id": "PsLtIPRDYiGL",
        "outputId": "39a83267-380a-4b94-c566-cbcfbbcc4b56"
      },
      "execution_count": null,
      "outputs": [
        {
          "output_type": "execute_result",
          "data": {
            "text/plain": [
              "(46, 59)"
            ]
          },
          "metadata": {},
          "execution_count": 576
        }
      ]
    },
    {
      "cell_type": "code",
      "source": [
        "from sklearn.model_selection import train_test_split\n",
        "\n",
        "train, test = train_test_split(d_f, test_size=0.2)"
      ],
      "metadata": {
        "id": "o1y3WC3fbcHD"
      },
      "execution_count": null,
      "outputs": []
    },
    {
      "cell_type": "code",
      "source": [
        "train.shape"
      ],
      "metadata": {
        "colab": {
          "base_uri": "https://localhost:8080/"
        },
        "id": "QPHv7OZ5cFM7",
        "outputId": "47440c6e-5a79-481f-d3f0-9088e6a7a267"
      },
      "execution_count": null,
      "outputs": [
        {
          "output_type": "execute_result",
          "data": {
            "text/plain": [
              "(36, 59)"
            ]
          },
          "metadata": {},
          "execution_count": 578
        }
      ]
    },
    {
      "cell_type": "code",
      "source": [
        "test.shape"
      ],
      "metadata": {
        "colab": {
          "base_uri": "https://localhost:8080/"
        },
        "id": "i7CbkF4DcPoS",
        "outputId": "edaa1398-003e-47df-a7d5-4e8b17e79cbd"
      },
      "execution_count": null,
      "outputs": [
        {
          "output_type": "execute_result",
          "data": {
            "text/plain": [
              "(10, 59)"
            ]
          },
          "metadata": {},
          "execution_count": 579
        }
      ]
    },
    {
      "cell_type": "code",
      "source": [
        "train.iloc[:,1:59].head(5)"
      ],
      "metadata": {
        "colab": {
          "base_uri": "https://localhost:8080/",
          "height": 235
        },
        "id": "KA8K-sB4cj7K",
        "outputId": "09f41041-a4f6-4f7b-c334-78f330a35cfb"
      },
      "execution_count": null,
      "outputs": [
        {
          "output_type": "execute_result",
          "data": {
            "text/plain": [
              "    Lap_1  Lap_2  Lap_3  Lap_4  Lap_5  Lap_6  Lap_7  Lap_8  Lap_9  Lap_10  \\\n",
              "8       2      2      2      2      2      2      2      2      4       4   \n",
              "39      4      4      4      4      4      4      4      4      4       4   \n",
              "5       3      3      3      3      3      4      4      4      4       4   \n",
              "19      1      1      1      1      1      1      1      1      1       1   \n",
              "31      4      4      4      4      4      4      4      4      4       4   \n",
              "\n",
              "    ...  Lap_49  Lap_50  Lap_51  Lap_52  Lap_53  Lap_54  Lap_55  Lap_56  \\\n",
              "8   ...       3       3       3       3       3       3       3       3   \n",
              "39  ...       6       6       6       6       6       4       4       4   \n",
              "5   ...       4       4       4       4       4       4       4       4   \n",
              "19  ...       3       3       3       3       3       3       3       3   \n",
              "31  ...       6       6       6       6       6       6       6       6   \n",
              "\n",
              "    Lap_57  Lap_58  \n",
              "8        3       3  \n",
              "39       4       4  \n",
              "5        4       4  \n",
              "19       3       3  \n",
              "31       6       6  \n",
              "\n",
              "[5 rows x 58 columns]"
            ],
            "text/html": [
              "\n",
              "  <div id=\"df-e4fc20fc-1952-49a2-8631-14c0894daadc\">\n",
              "    <div class=\"colab-df-container\">\n",
              "      <div>\n",
              "<style scoped>\n",
              "    .dataframe tbody tr th:only-of-type {\n",
              "        vertical-align: middle;\n",
              "    }\n",
              "\n",
              "    .dataframe tbody tr th {\n",
              "        vertical-align: top;\n",
              "    }\n",
              "\n",
              "    .dataframe thead th {\n",
              "        text-align: right;\n",
              "    }\n",
              "</style>\n",
              "<table border=\"1\" class=\"dataframe\">\n",
              "  <thead>\n",
              "    <tr style=\"text-align: right;\">\n",
              "      <th></th>\n",
              "      <th>Lap_1</th>\n",
              "      <th>Lap_2</th>\n",
              "      <th>Lap_3</th>\n",
              "      <th>Lap_4</th>\n",
              "      <th>Lap_5</th>\n",
              "      <th>Lap_6</th>\n",
              "      <th>Lap_7</th>\n",
              "      <th>Lap_8</th>\n",
              "      <th>Lap_9</th>\n",
              "      <th>Lap_10</th>\n",
              "      <th>...</th>\n",
              "      <th>Lap_49</th>\n",
              "      <th>Lap_50</th>\n",
              "      <th>Lap_51</th>\n",
              "      <th>Lap_52</th>\n",
              "      <th>Lap_53</th>\n",
              "      <th>Lap_54</th>\n",
              "      <th>Lap_55</th>\n",
              "      <th>Lap_56</th>\n",
              "      <th>Lap_57</th>\n",
              "      <th>Lap_58</th>\n",
              "    </tr>\n",
              "  </thead>\n",
              "  <tbody>\n",
              "    <tr>\n",
              "      <th>8</th>\n",
              "      <td>2</td>\n",
              "      <td>2</td>\n",
              "      <td>2</td>\n",
              "      <td>2</td>\n",
              "      <td>2</td>\n",
              "      <td>2</td>\n",
              "      <td>2</td>\n",
              "      <td>2</td>\n",
              "      <td>4</td>\n",
              "      <td>4</td>\n",
              "      <td>...</td>\n",
              "      <td>3</td>\n",
              "      <td>3</td>\n",
              "      <td>3</td>\n",
              "      <td>3</td>\n",
              "      <td>3</td>\n",
              "      <td>3</td>\n",
              "      <td>3</td>\n",
              "      <td>3</td>\n",
              "      <td>3</td>\n",
              "      <td>3</td>\n",
              "    </tr>\n",
              "    <tr>\n",
              "      <th>39</th>\n",
              "      <td>4</td>\n",
              "      <td>4</td>\n",
              "      <td>4</td>\n",
              "      <td>4</td>\n",
              "      <td>4</td>\n",
              "      <td>4</td>\n",
              "      <td>4</td>\n",
              "      <td>4</td>\n",
              "      <td>4</td>\n",
              "      <td>4</td>\n",
              "      <td>...</td>\n",
              "      <td>6</td>\n",
              "      <td>6</td>\n",
              "      <td>6</td>\n",
              "      <td>6</td>\n",
              "      <td>6</td>\n",
              "      <td>4</td>\n",
              "      <td>4</td>\n",
              "      <td>4</td>\n",
              "      <td>4</td>\n",
              "      <td>4</td>\n",
              "    </tr>\n",
              "    <tr>\n",
              "      <th>5</th>\n",
              "      <td>3</td>\n",
              "      <td>3</td>\n",
              "      <td>3</td>\n",
              "      <td>3</td>\n",
              "      <td>3</td>\n",
              "      <td>4</td>\n",
              "      <td>4</td>\n",
              "      <td>4</td>\n",
              "      <td>4</td>\n",
              "      <td>4</td>\n",
              "      <td>...</td>\n",
              "      <td>4</td>\n",
              "      <td>4</td>\n",
              "      <td>4</td>\n",
              "      <td>4</td>\n",
              "      <td>4</td>\n",
              "      <td>4</td>\n",
              "      <td>4</td>\n",
              "      <td>4</td>\n",
              "      <td>4</td>\n",
              "      <td>4</td>\n",
              "    </tr>\n",
              "    <tr>\n",
              "      <th>19</th>\n",
              "      <td>1</td>\n",
              "      <td>1</td>\n",
              "      <td>1</td>\n",
              "      <td>1</td>\n",
              "      <td>1</td>\n",
              "      <td>1</td>\n",
              "      <td>1</td>\n",
              "      <td>1</td>\n",
              "      <td>1</td>\n",
              "      <td>1</td>\n",
              "      <td>...</td>\n",
              "      <td>3</td>\n",
              "      <td>3</td>\n",
              "      <td>3</td>\n",
              "      <td>3</td>\n",
              "      <td>3</td>\n",
              "      <td>3</td>\n",
              "      <td>3</td>\n",
              "      <td>3</td>\n",
              "      <td>3</td>\n",
              "      <td>3</td>\n",
              "    </tr>\n",
              "    <tr>\n",
              "      <th>31</th>\n",
              "      <td>4</td>\n",
              "      <td>4</td>\n",
              "      <td>4</td>\n",
              "      <td>4</td>\n",
              "      <td>4</td>\n",
              "      <td>4</td>\n",
              "      <td>4</td>\n",
              "      <td>4</td>\n",
              "      <td>4</td>\n",
              "      <td>4</td>\n",
              "      <td>...</td>\n",
              "      <td>6</td>\n",
              "      <td>6</td>\n",
              "      <td>6</td>\n",
              "      <td>6</td>\n",
              "      <td>6</td>\n",
              "      <td>6</td>\n",
              "      <td>6</td>\n",
              "      <td>6</td>\n",
              "      <td>6</td>\n",
              "      <td>6</td>\n",
              "    </tr>\n",
              "  </tbody>\n",
              "</table>\n",
              "<p>5 rows × 58 columns</p>\n",
              "</div>\n",
              "      <button class=\"colab-df-convert\" onclick=\"convertToInteractive('df-e4fc20fc-1952-49a2-8631-14c0894daadc')\"\n",
              "              title=\"Convert this dataframe to an interactive table.\"\n",
              "              style=\"display:none;\">\n",
              "        \n",
              "  <svg xmlns=\"http://www.w3.org/2000/svg\" height=\"24px\"viewBox=\"0 0 24 24\"\n",
              "       width=\"24px\">\n",
              "    <path d=\"M0 0h24v24H0V0z\" fill=\"none\"/>\n",
              "    <path d=\"M18.56 5.44l.94 2.06.94-2.06 2.06-.94-2.06-.94-.94-2.06-.94 2.06-2.06.94zm-11 1L8.5 8.5l.94-2.06 2.06-.94-2.06-.94L8.5 2.5l-.94 2.06-2.06.94zm10 10l.94 2.06.94-2.06 2.06-.94-2.06-.94-.94-2.06-.94 2.06-2.06.94z\"/><path d=\"M17.41 7.96l-1.37-1.37c-.4-.4-.92-.59-1.43-.59-.52 0-1.04.2-1.43.59L10.3 9.45l-7.72 7.72c-.78.78-.78 2.05 0 2.83L4 21.41c.39.39.9.59 1.41.59.51 0 1.02-.2 1.41-.59l7.78-7.78 2.81-2.81c.8-.78.8-2.07 0-2.86zM5.41 20L4 18.59l7.72-7.72 1.47 1.35L5.41 20z\"/>\n",
              "  </svg>\n",
              "      </button>\n",
              "      \n",
              "  <style>\n",
              "    .colab-df-container {\n",
              "      display:flex;\n",
              "      flex-wrap:wrap;\n",
              "      gap: 12px;\n",
              "    }\n",
              "\n",
              "    .colab-df-convert {\n",
              "      background-color: #E8F0FE;\n",
              "      border: none;\n",
              "      border-radius: 50%;\n",
              "      cursor: pointer;\n",
              "      display: none;\n",
              "      fill: #1967D2;\n",
              "      height: 32px;\n",
              "      padding: 0 0 0 0;\n",
              "      width: 32px;\n",
              "    }\n",
              "\n",
              "    .colab-df-convert:hover {\n",
              "      background-color: #E2EBFA;\n",
              "      box-shadow: 0px 1px 2px rgba(60, 64, 67, 0.3), 0px 1px 3px 1px rgba(60, 64, 67, 0.15);\n",
              "      fill: #174EA6;\n",
              "    }\n",
              "\n",
              "    [theme=dark] .colab-df-convert {\n",
              "      background-color: #3B4455;\n",
              "      fill: #D2E3FC;\n",
              "    }\n",
              "\n",
              "    [theme=dark] .colab-df-convert:hover {\n",
              "      background-color: #434B5C;\n",
              "      box-shadow: 0px 1px 3px 1px rgba(0, 0, 0, 0.15);\n",
              "      filter: drop-shadow(0px 1px 2px rgba(0, 0, 0, 0.3));\n",
              "      fill: #FFFFFF;\n",
              "    }\n",
              "  </style>\n",
              "\n",
              "      <script>\n",
              "        const buttonEl =\n",
              "          document.querySelector('#df-e4fc20fc-1952-49a2-8631-14c0894daadc button.colab-df-convert');\n",
              "        buttonEl.style.display =\n",
              "          google.colab.kernel.accessAllowed ? 'block' : 'none';\n",
              "\n",
              "        async function convertToInteractive(key) {\n",
              "          const element = document.querySelector('#df-e4fc20fc-1952-49a2-8631-14c0894daadc');\n",
              "          const dataTable =\n",
              "            await google.colab.kernel.invokeFunction('convertToInteractive',\n",
              "                                                     [key], {});\n",
              "          if (!dataTable) return;\n",
              "\n",
              "          const docLinkHtml = 'Like what you see? Visit the ' +\n",
              "            '<a target=\"_blank\" href=https://colab.research.google.com/notebooks/data_table.ipynb>data table notebook</a>'\n",
              "            + ' to learn more about interactive tables.';\n",
              "          element.innerHTML = '';\n",
              "          dataTable['output_type'] = 'display_data';\n",
              "          await google.colab.output.renderOutput(dataTable, element);\n",
              "          const docLink = document.createElement('div');\n",
              "          docLink.innerHTML = docLinkHtml;\n",
              "          element.appendChild(docLink);\n",
              "        }\n",
              "      </script>\n",
              "    </div>\n",
              "  </div>\n",
              "  "
            ]
          },
          "metadata": {},
          "execution_count": 580
        }
      ]
    },
    {
      "cell_type": "code",
      "source": [
        "train_feat = train.iloc[:,1:59]\n",
        "train_targ = train[\"Ranking\"]"
      ],
      "metadata": {
        "id": "b3cGPAZpc-6i"
      },
      "execution_count": null,
      "outputs": []
    },
    {
      "cell_type": "code",
      "source": [
        "train_feat.shape"
      ],
      "metadata": {
        "colab": {
          "base_uri": "https://localhost:8080/"
        },
        "id": "Yd0nJEsFdtSK",
        "outputId": "e76c1ec6-7b78-40dd-b6ab-fa70873bf0a0"
      },
      "execution_count": null,
      "outputs": [
        {
          "output_type": "execute_result",
          "data": {
            "text/plain": [
              "(36, 58)"
            ]
          },
          "metadata": {},
          "execution_count": 582
        }
      ]
    },
    {
      "cell_type": "code",
      "source": [
        "train_targ.shape"
      ],
      "metadata": {
        "colab": {
          "base_uri": "https://localhost:8080/"
        },
        "id": "fj5Tik_5d1fq",
        "outputId": "718043b4-8c72-4f09-b871-f3fe7d691647"
      },
      "execution_count": null,
      "outputs": [
        {
          "output_type": "execute_result",
          "data": {
            "text/plain": [
              "(36,)"
            ]
          },
          "metadata": {},
          "execution_count": 583
        }
      ]
    },
    {
      "cell_type": "code",
      "source": [
        "train[[\"Ranking\"]].info()"
      ],
      "metadata": {
        "colab": {
          "base_uri": "https://localhost:8080/"
        },
        "id": "nc3wtXiCf7Mx",
        "outputId": "6957b240-2f02-4294-ec33-0dee061ae24e"
      },
      "execution_count": null,
      "outputs": [
        {
          "output_type": "stream",
          "name": "stdout",
          "text": [
            "<class 'pandas.core.frame.DataFrame'>\n",
            "Int64Index: 36 entries, 8 to 42\n",
            "Data columns (total 1 columns):\n",
            " #   Column   Non-Null Count  Dtype\n",
            "---  ------   --------------  -----\n",
            " 0   Ranking  36 non-null     int64\n",
            "dtypes: int64(1)\n",
            "memory usage: 576.0 bytes\n"
          ]
        }
      ]
    },
    {
      "cell_type": "code",
      "source": [
        "lr.fit(train_feat, train_targ) "
      ],
      "metadata": {
        "colab": {
          "base_uri": "https://localhost:8080/"
        },
        "id": "QYZ7HsdKgEWp",
        "outputId": "a5e64218-1430-4940-e153-49c94e844489"
      },
      "execution_count": null,
      "outputs": [
        {
          "output_type": "stream",
          "name": "stderr",
          "text": [
            "/usr/local/lib/python3.8/dist-packages/sklearn/linear_model/_logistic.py:814: ConvergenceWarning: lbfgs failed to converge (status=1):\n",
            "STOP: TOTAL NO. of ITERATIONS REACHED LIMIT.\n",
            "\n",
            "Increase the number of iterations (max_iter) or scale the data as shown in:\n",
            "    https://scikit-learn.org/stable/modules/preprocessing.html\n",
            "Please also refer to the documentation for alternative solver options:\n",
            "    https://scikit-learn.org/stable/modules/linear_model.html#logistic-regression\n",
            "  n_iter_i = _check_optimize_result(\n"
          ]
        },
        {
          "output_type": "execute_result",
          "data": {
            "text/plain": [
              "LogisticRegression()"
            ]
          },
          "metadata": {},
          "execution_count": 585
        }
      ]
    },
    {
      "cell_type": "code",
      "source": [
        "lr.score(train_feat, train_targ)"
      ],
      "metadata": {
        "colab": {
          "base_uri": "https://localhost:8080/"
        },
        "id": "m15Lkoweodzu",
        "outputId": "63755460-3dd3-44e4-b9d5-73295428ba66"
      },
      "execution_count": null,
      "outputs": [
        {
          "output_type": "execute_result",
          "data": {
            "text/plain": [
              "0.6944444444444444"
            ]
          },
          "metadata": {},
          "execution_count": 586
        }
      ]
    },
    {
      "cell_type": "code",
      "source": [
        "plt.plot(train_feat, train_targ, 'o');"
      ],
      "metadata": {
        "colab": {
          "base_uri": "https://localhost:8080/",
          "height": 268
        },
        "id": "86t4cadi3E30",
        "outputId": "0480287e-4aa2-4fa8-97e8-a5ba22e601ff"
      },
      "execution_count": null,
      "outputs": [
        {
          "output_type": "display_data",
          "data": {
            "text/plain": [
              "<Figure size 432x288 with 1 Axes>"
            ],
            "image/png": "[encoded data removed]"
          },
          "metadata": {
            "needs_background": "light"
          }
        }
      ]
    },
    {
      "cell_type": "markdown",
      "source": [
        "CLASSIFICATION"
      ],
      "metadata": {
        "id": "zGyQISzN4Tcq"
      }
    },
    {
      "cell_type": "code",
      "source": [
        "from sklearn import neighbors, datasets\n",
        "\n",
        "iris = pd.read_csv(\"https://raw.githubusercontent.com/GibranHamrouniCases/GibranHamrouniCases.github.io/main/F1_Tyres_Red_Num.csv\")\n",
        "iris_data = iris.iloc[:, 1:59].to_numpy()\n",
        "X,y  = iris_data, iris.Ranking\n",
        "\n",
        "X.shape"
      ],
      "metadata": {
        "colab": {
          "base_uri": "https://localhost:8080/"
        },
        "id": "ZeDysdao97Dg",
        "outputId": "7df20383-202d-4d74-9447-39194d3aca2d"
      },
      "execution_count": null,
      "outputs": [
        {
          "output_type": "execute_result",
          "data": {
            "text/plain": [
              "(46, 58)"
            ]
          },
          "metadata": {},
          "execution_count": 588
        }
      ]
    },
    {
      "cell_type": "code",
      "source": [
        "plt.plot(iris_data, iris.Ranking, 'o');"
      ],
      "metadata": {
        "colab": {
          "base_uri": "https://localhost:8080/",
          "height": 268
        },
        "id": "vcFPjvd9Emke",
        "outputId": "65862bc9-c401-47f5-ce96-3c72301ecbe6"
      },
      "execution_count": null,
      "outputs": [
        {
          "output_type": "display_data",
          "data": {
            "text/plain": [
              "<Figure size 432x288 with 1 Axes>"
            ],
            "image/png": "[encoded data removed]"
          },
          "metadata": {
            "needs_background": "light"
          }
        }
      ]
    },
    {
      "cell_type": "code",
      "source": [
        "print((iris).keys())"
      ],
      "metadata": {
        "colab": {
          "base_uri": "https://localhost:8080/"
        },
        "id": "0lbv10-n_bWw",
        "outputId": "c497236f-0677-4031-a3c5-82ae3785c2f6"
      },
      "execution_count": null,
      "outputs": [
        {
          "output_type": "stream",
          "name": "stdout",
          "text": [
            "Index(['Ranking', 'Lap_1', 'Lap_2', 'Lap_3', 'Lap_4', 'Lap_5', 'Lap_6',\n",
            "       'Lap_7', 'Lap_8', 'Lap_9', 'Lap_10', 'Lap_11', 'Lap_12', 'Lap_13',\n",
            "       'Lap_14', 'Lap_15', 'Lap_16', 'Lap_17', 'Lap_18', 'Lap_19', 'Lap_20',\n",
            "       'Lap_21', 'Lap_22', 'Lap_23', 'Lap_24', 'Lap_25', 'Lap_26', 'Lap_27',\n",
            "       'Lap_28', 'Lap_29', 'Lap_30', 'Lap_31', 'Lap_32', 'Lap_33', 'Lap_34',\n",
            "       'Lap_35', 'Lap_36', 'Lap_37', 'Lap_38', 'Lap_39', 'Lap_40', 'Lap_41',\n",
            "       'Lap_42', 'Lap_43', 'Lap_44', 'Lap_45', 'Lap_46', 'Lap_47', 'Lap_48',\n",
            "       'Lap_49', 'Lap_50', 'Lap_51', 'Lap_52', 'Lap_53', 'Lap_54', 'Lap_55',\n",
            "       'Lap_56', 'Lap_57', 'Lap_58'],\n",
            "      dtype='object')\n"
          ]
        }
      ]
    },
    {
      "cell_type": "code",
      "source": [
        "# create the model\n",
        "knn = neighbors.KNeighborsClassifier()\n",
        "# knn = neighbors.KNeighborsClassifier(n_neighbors=15) #you can specify the number of neighbors if you'd like\n",
        "\n",
        "# fit the model\n",
        "knn.fit(X, y)"
      ],
      "metadata": {
        "colab": {
          "base_uri": "https://localhost:8080/"
        },
        "id": "hRpx7dyT967I",
        "outputId": "4c48278a-b886-4e60-d519-19cd6bea0704"
      },
      "execution_count": null,
      "outputs": [
        {
          "output_type": "execute_result",
          "data": {
            "text/plain": [
              "KNeighborsClassifier()"
            ]
          },
          "metadata": {},
          "execution_count": 591
        }
      ]
    },
    {
      "cell_type": "code",
      "source": [
        "# What kind of iris has 3cm x 5cm sepal and 4cm x 2cm petal?\n",
        "# call the \"predict\" method:\n",
        "result = knn.predict([[5, 5, 5, 5, 5, 5, 5, 5, 5, 5,\n",
        "                       5, 5, 3, 3, 3, 3, 3, 3, 3, 3,\n",
        "                       3, 3, 3, 3, 3, 3, 3, 3, 3, 3,\n",
        "                       3, 3, 3, 3, 3, 3, 3, 4, 4, 4,\n",
        "                       4, 4, 4, 4, 4, 4, 4, 4, 4, 4,\n",
        "                       4, 4, 4, 4, 4, 4, 4, 4,\n",
        "                       ]])\n",
        "print(result,iris.Ranking[result])"
      ],
      "metadata": {
        "colab": {
          "base_uri": "https://localhost:8080/"
        },
        "id": "ltE2IK1w-DOq",
        "outputId": "dfdaf62f-8fd6-4f59-a6c0-58a55357d9db"
      },
      "execution_count": null,
      "outputs": [
        {
          "output_type": "stream",
          "name": "stdout",
          "text": [
            "[4] 4    6\n",
            "Name: Ranking, dtype: int64\n"
          ]
        }
      ]
    },
    {
      "cell_type": "code",
      "source": [
        "# Multiple flowers at once? Sure. As long as is in the X format\n",
        "X2=np.array([[5, 5, 5, 5, 5, 5, 5, 5, 5, 5,\n",
        "              5, 5, 3, 3, 3, 3, 3, 3, 3, 3,\n",
        "              3, 3, 3, 3, 3, 3, 3, 3, 3, 3,\n",
        "              3, 3, 3, 3, 3, 3, 3, 4, 4, 4,\n",
        "              4, 4, 4, 4, 4, 4, 4, 4, 4, 4,\n",
        "              4, 4, 4, 4, 4, 4, 4, 4,\n",
        "              ], [1, 1, 1, 1, 1, 1, 1, 1, 1, 1,\n",
        "              1, 1, 3, 3, 3, 3, 3, 3, 3, 3,\n",
        "              3, 3, 3, 3, 3, 3, 3, 3, 3, 3,\n",
        "              3, 3, 3, 3, 3, 3, 3, 4, 4, 4,\n",
        "              4, 4, 4, 4, 4, 4, 4, 4, 4, 4,\n",
        "              4, 4, 4, 4, 4, 4, 4, 4,\n",
        "              ],[1, 1, 1, 1, 1, 1, 1, 1, 1, 1,\n",
        "              1, 1, 1, 1, 1, 1, 1, 1, 1, 1,\n",
        "              1, 1, 1, 1, 1, 1, 3, 3, 3, 3,\n",
        "              3, 3, 3, 3, 3, 3, 3, 3, 3, 3,\n",
        "              3, 3, 3, 3, 3, 3, 3, 3, 3, 3,\n",
        "              3, 3, 3, 3, 3, 3, 3, 3,\n",
        "              ]])\n",
        "\n",
        "result = knn.predict(X2)\n",
        "print(result,iris.Ranking[result])"
      ],
      "metadata": {
        "colab": {
          "base_uri": "https://localhost:8080/"
        },
        "id": "I-Z6VYEibHUx",
        "outputId": "0fd54c64-e061-4765-d632-0aeb226109ac"
      },
      "execution_count": null,
      "outputs": [
        {
          "output_type": "stream",
          "name": "stdout",
          "text": [
            "[4 3 3] 4    6\n",
            "3    4\n",
            "3    4\n",
            "Name: Ranking, dtype: int64\n"
          ]
        }
      ]
    },
    {
      "cell_type": "code",
      "source": [
        "plt.plot(iris_data, iris.Ranking, 'o', color='green');\n",
        "plt.plot(X2, result, 'o',color='red');"
      ],
      "metadata": {
        "colab": {
          "base_uri": "https://localhost:8080/",
          "height": 268
        },
        "id": "B2c9wjclEsOm",
        "outputId": "ef489711-eb24-4e28-89bd-75a2332ca046"
      },
      "execution_count": null,
      "outputs": [
        {
          "output_type": "display_data",
          "data": {
            "text/plain": [
              "<Figure size 432x288 with 1 Axes>"
            ],
            "image/png": "[encoded data removed]"
          },
          "metadata": {
            "needs_background": "light"
          }
        }
      ]
    },
    {
      "cell_type": "code",
      "source": [
        "regressor = LinearRegression()\n",
        "regressor.fit(X, y)\n",
        "\n",
        "\n",
        "y_pred = regressor.predict(X)\n",
        "# Calculates R^2\n",
        "score = regressor.score(X,y)"
      ],
      "metadata": {
        "id": "86i8v_cnKWAW"
      },
      "execution_count": null,
      "outputs": []
    },
    {
      "cell_type": "code",
      "source": [
        "import seaborn as sns\n",
        "sns.set()"
      ],
      "metadata": {
        "id": "4YDB9rByKfQs"
      },
      "execution_count": null,
      "outputs": []
    },
    {
      "cell_type": "code",
      "source": [
        "iris_lap = iris.iloc[:, 10:11]\n",
        "x,y  = iris_lap, iris.Ranking"
      ],
      "metadata": {
        "id": "hIm-SmiiL1Il"
      },
      "execution_count": null,
      "outputs": []
    },
    {
      "cell_type": "code",
      "source": [
        "sns.regplot(x= iris_lap,y= iris.Ranking,)\n",
        "plt.xlabel('Tyre Type')\n",
        "plt.ylabel('Ranking')"
      ],
      "metadata": {
        "id": "Ot6dZMV6L3Z8",
        "colab": {
          "base_uri": "https://localhost:8080/",
          "height": 302
        },
        "outputId": "375c9dd9-b589-4ee4-dcaa-2502615ca3b1"
      },
      "execution_count": null,
      "outputs": [
        {
          "output_type": "execute_result",
          "data": {
            "text/plain": [
              "Text(0, 0.5, 'Ranking')"
            ]
          },
          "metadata": {},
          "execution_count": 604
        },
        {
          "output_type": "display_data",
          "data": {
            "text/plain": [
              "<Figure size 432x288 with 1 Axes>"
            ],
            "image/png": "[encoded data removed]"
          },
          "metadata": {}
        }
      ]
    },
    {
      "cell_type": "markdown",
      "source": [
        "Backup Slope - from Lecturer code"
      ],
      "metadata": {
        "id": "QZz82tKrpY9L"
      }
    },
    {
      "cell_type": "code",
      "source": [
        "clf = PCA(0.95) # keep 95% of variance\n",
        "X_trans = clf.fit_transform(X)\n",
        "print(X.shape)\n",
        "print(X_trans.shape)"
      ],
      "metadata": {
        "colab": {
          "base_uri": "https://localhost:8080/"
        },
        "id": "ix2eNPLBebFl",
        "outputId": "bb16b877-482d-42d8-d826-b2a15f33b26b"
      },
      "execution_count": null,
      "outputs": [
        {
          "output_type": "stream",
          "name": "stdout",
          "text": [
            "(46, 58)\n",
            "(46, 3)\n"
          ]
        }
      ]
    },
    {
      "cell_type": "code",
      "source": [
        "X_new = clf.inverse_transform(X_trans)\n",
        "plt.plot(X[:, 0], X[:, 1], 'o', alpha=0.2)\n",
        "plt.plot(X_new[:, 0], X_new[:, 1], 'ob', alpha=0.8)\n",
        "plt.axis('equal');"
      ],
      "metadata": {
        "colab": {
          "base_uri": "https://localhost:8080/",
          "height": 268
        },
        "id": "vKErD73GegtN",
        "outputId": "7b1d1c97-a2e9-4ede-b98c-233cb5ea33e9"
      },
      "execution_count": null,
      "outputs": [
        {
          "output_type": "display_data",
          "data": {
            "text/plain": [
              "<Figure size 432x288 with 1 Axes>"
            ],
            "image/png": "[encoded data removed]"
          },
          "metadata": {}
        }
      ]
    }
  ],
  "metadata": {
    "kernelspec": {
      "display_name": "Python 3",
      "language": "python",
      "name": "python3"
    },
    "language_info": {
      "codemirror_mode": {
        "name": "ipython",
        "version": 3
      },
      "file_extension": ".py",
      "mimetype": "text/x-python",
      "name": "python",
      "nbconvert_exporter": "python",
      "pygments_lexer": "ipython3",
      "version": "3.8.8"
    },
    "colab": {
      "provenance": []
    }
  },
  "nbformat": 4,
  "nbformat_minor": 0
}