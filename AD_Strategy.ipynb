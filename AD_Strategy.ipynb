{
  "cells": [
    {
      "cell_type": "code",
      "source": [
        "!pip install fastf1"
      ],
      "metadata": {
        "id": "syKpAokTyafk"
      },
      "execution_count": null,
      "outputs": []
    },
    {
      "cell_type": "code",
      "source": [
        "!pip uninstall matplotlib\n",
        "!pip install matplotlib==3.1.3"
      ],
      "metadata": {
        "id": "HeKoMZye2VGL"
      },
      "execution_count": null,
      "outputs": []
    },
    {
      "cell_type": "code",
      "source": [
        "import fastf1 as ff1\n",
        "from fastf1 import plotting\n",
        "from matplotlib import pyplot as plt\n",
        "from matplotlib.pyplot import figure\n",
        "import numpy as np\n",
        "import pandas as pd\n",
        "import json\n",
        "from google.colab import files"
      ],
      "metadata": {
        "id": "qdfe5hPUxned"
      },
      "execution_count": 50,
      "outputs": []
    },
    {
      "cell_type": "code",
      "source": [
        "year = 2022\n",
        "circuit = 'Abu Dhabi'\n",
        "\n",
        "# Load the session data\n",
        "race = ff1.get_session(year, circuit, 'R')\n",
        "laps = race.load_laps(with_telemetry=True)"
      ],
      "metadata": {
        "colab": {
          "base_uri": "https://localhost:8080/"
        },
        "id": "gXoFmr_31sOz",
        "outputId": "7ee9d171-d30e-4a21-c29c-2283a3cf33d9"
      },
      "execution_count": 46,
      "outputs": [
        {
          "output_type": "stream",
          "name": "stderr",
          "text": [
            "/usr/local/lib/python3.8/dist-packages/fastf1/core.py:1220: FutureWarning: `Session.load_laps` is deprecated and will beremoved in a future version.\n",
            "Use `Session.load` instead.\n",
            "  warnings.warn(\"`Session.load_laps` is deprecated and will be\"\n"
          ]
        }
      ]
    },
    {
      "cell_type": "code",
      "source": [
        "driver_stints = laps[['Driver', 'Stint', 'Compound', 'LapNumber']].groupby(\n",
        "    ['Driver', 'Stint', 'Compound']\n",
        ").count().reset_index()"
      ],
      "metadata": {
        "id": "4fj--AiZ1yOr"
      },
      "execution_count": 47,
      "outputs": []
    },
    {
      "cell_type": "code",
      "source": [
        "driver_stints = driver_stints.rename(columns={'LapNumber': 'StintLength'})\n",
        "\n",
        "driver_stints = driver_stints.sort_values(by=['Stint'])"
      ],
      "metadata": {
        "id": "qEFWN-Lu12X7"
      },
      "execution_count": 48,
      "outputs": []
    },
    {
      "cell_type": "code",
      "source": [
        "compound_colors = {\n",
        "    'SOFT': '#FF3333',\n",
        "    'MEDIUM': '#FFF200',\n",
        "    'HARD': '#EBEBEB',\n",
        "    'INTERMEDIATE': '#39B54A',\n",
        "    'WET': '#00AEEF',\n",
        "}"
      ],
      "metadata": {
        "id": "3LdgjWNI14Fr"
      },
      "execution_count": 49,
      "outputs": []
    },
    {
      "cell_type": "code",
      "source": [
        "plt.rcParams[\"figure.figsize\"] = [15, 10]\n",
        "plt.rcParams[\"figure.autolayout\"] = True\n",
        "\n",
        "fig, ax = plt.subplots()\n",
        "\n",
        "for driver in race.results['Abbreviation']:\n",
        "    stints = driver_stints.loc[driver_stints['Driver'] == driver]\n",
        "    \n",
        "    previous_stint_end = 0\n",
        "    for _, stint in stints.iterrows():\n",
        "        plt.barh(\n",
        "            [driver], \n",
        "            stint['StintLength'], \n",
        "            left=previous_stint_end, \n",
        "            color=compound_colors[stint['Compound']], \n",
        "            edgecolor = \"black\"\n",
        "        )\n",
        "        \n",
        "        previous_stint_end = previous_stint_end + stint['StintLength']\n",
        "        \n",
        "# Set title\n",
        "plt.title(f'Race strategy - {circuit} {year}')\n",
        "        \n",
        "# Set x-label\n",
        "plt.xlabel('Lap')\n",
        "\n",
        "# Invert y-axis \n",
        "plt.gca().invert_yaxis()\n",
        "\n",
        "# Remove frame from plot\n",
        "ax.spines['top'].set_visible(False)\n",
        "ax.spines['right'].set_visible(False)\n",
        "ax.spines['left'].set_visible(False)\n",
        "\n",
        "plt.savefig('strategy_AD.png', dpi=300)\n",
        "\n",
        "plt.show()"
      ],
      "metadata": {
        "colab": {
          "base_uri": "https://localhost:8080/",
          "height": 729
        },
        "id": "J8aEgmvO1ogL",
        "outputId": "3dc1af72-f1e9-4f05-c3dc-d6a26ebc4a6c"
      },
      "execution_count": 44,
      "outputs": [
        {
          "output_type": "display_data",
          "data": {
            "text/plain": [
              "<Figure size 1080x720 with 1 Axes>"
            ],
            "image/png": "[encoded data removed]"
          },
          "metadata": {
            "needs_background": "light"
          }
        }
      ]
    },
    {
      "cell_type": "code",
      "source": [
        "files.download('strategy_AD.png') #Download"
      ],
      "metadata": {
        "colab": {
          "base_uri": "https://localhost:8080/",
          "height": 17
        },
        "id": "0w53-So35QL6",
        "outputId": "0e4473fe-16fa-4162-ad5c-65bbd076718d"
      },
      "execution_count": 59,
      "outputs": [
        {
          "output_type": "display_data",
          "data": {
            "text/plain": [
              "<IPython.core.display.Javascript object>"
            ],
            "application/javascript": [
              "\n",
              "    async function download(id, filename, size) {\n",
              "      if (!google.colab.kernel.accessAllowed) {\n",
              "        return;\n",
              "      }\n",
              "      const div = document.createElement('div');\n",
              "      const label = document.createElement('label');\n",
              "      label.textContent = `Downloading \"${filename}\": `;\n",
              "      div.appendChild(label);\n",
              "      const progress = document.createElement('progress');\n",
              "      progress.max = size;\n",
              "      div.appendChild(progress);\n",
              "      document.body.appendChild(div);\n",
              "\n",
              "      const buffers = [];\n",
              "      let downloaded = 0;\n",
              "\n",
              "      const channel = await google.colab.kernel.comms.open(id);\n",
              "      // Send a message to notify the kernel that we're ready.\n",
              "      channel.send({})\n",
              "\n",
              "      for await (const message of channel.messages) {\n",
              "        // Send a message to notify the kernel that we're ready.\n",
              "        channel.send({})\n",
              "        if (message.buffers) {\n",
              "          for (const buffer of message.buffers) {\n",
              "            buffers.push(buffer);\n",
              "            downloaded += buffer.byteLength;\n",
              "            progress.value = downloaded;\n",
              "          }\n",
              "        }\n",
              "      }\n",
              "      const blob = new Blob(buffers, {type: 'application/binary'});\n",
              "      const a = document.createElement('a');\n",
              "      a.href = window.URL.createObjectURL(blob);\n",
              "      a.download = filename;\n",
              "      div.appendChild(a);\n",
              "      a.click();\n",
              "      div.remove();\n",
              "    }\n",
              "  "
            ]
          },
          "metadata": {}
        },
        {
          "output_type": "display_data",
          "data": {
            "text/plain": [
              "<IPython.core.display.Javascript object>"
            ],
            "application/javascript": [
              "download(\"download_c120c53f-6f11-4ae1-b8a1-5b13b660011a\", \"strategy_AD.png\", 139081)"
            ]
          },
          "metadata": {}
        }
      ]
    }
  ],
  "metadata": {
    "kernelspec": {
      "display_name": "Python 3",
      "language": "python",
      "name": "python3"
    },
    "language_info": {
      "codemirror_mode": {
        "name": "ipython",
        "version": 3
      },
      "file_extension": ".py",
      "mimetype": "text/x-python",
      "name": "python",
      "nbconvert_exporter": "python",
      "pygments_lexer": "ipython3",
      "version": "3.8.8"
    },
    "colab": {
      "provenance": []
    }
  },
  "nbformat": 4,
  "nbformat_minor": 0
}